{
 "cells": [
  {
   "cell_type": "markdown",
   "metadata": {},
   "source": [
    "Que 3)Generate the bill with proper format to create the bill file. User may enter more than 1 element "
   ]
  },
  {
   "cell_type": "code",
   "execution_count": 1,
   "metadata": {},
   "outputs": [
    {
     "name": "stdout",
     "output_type": "stream",
     "text": [
      "        ### Welcome To Hotel Khandesh ###         \n",
      "-------------------------------------------------------\n",
      "Sr        Menu         Quntity          Price\n",
      "1         Idli         2                  60\n",
      "-------------------------------------------------------\n",
      "          Total                           120\n"
     ]
    }
   ],
   "source": [
    "string=\"### Welcome To Hotel Khandesh ###\"\n",
    "#print(\"{:*^70}\".format)\n",
    "print(\"{:^50}\".format(string))\n",
    "print(\"-\"*55)\n",
    "print(\"{:10}\".format(\"Sr\")+ \"{:10}\".format(\"Menu\") + \"{:>10}\".format(\"Quntity\") +\"{:>15}\".format(\"Price\"))\n",
    "print(\"{:}\".format(1) + \"{:>13}\".format(\"Idli\") + \"{:>10}\".format(\"2\") +\"{:>20}\".format(\"60\"))\n",
    "print(\"-\"*55)\n",
    "\n",
    "\n",
    "print(\"{:>15}\".format(\"Total\") + \"{:>30}\".format(120))\n"
   ]
  },
  {
   "cell_type": "markdown",
   "metadata": {},
   "source": [
    "or"
   ]
  },
  {
   "cell_type": "code",
   "execution_count": 2,
   "metadata": {},
   "outputs": [
    {
     "name": "stdout",
     "output_type": "stream",
     "text": [
      "        ### Welcome To Hotel Khandesh ###         \n",
      "-------------------------------------------------------\n",
      "Sr        Menu         Quntity          Price\n",
      "-------------------------------------------------------\n",
      "1         Hot Coffee         2          40.00\n",
      "2         Pizza              3         300.00\n",
      "3         Idali              4          80.00\n",
      "4         Water              2          40.00\n",
      "-------------------------------------------------------\n",
      "          Total                         460.0\n"
     ]
    }
   ],
   "source": [
    "string=\"### Welcome To Hotel Khandesh ###\"\n",
    "#print(\"{:*^70}\".format)\n",
    "print(\"{:^50}\".format(string))\n",
    "print(\"-\"*55)\n",
    "print(\"{:10}{:10}{:>10}{:>15}\".format(\"Sr\",\"Menu\",\"Quntity\",\"Price\"))\n",
    "Total=0\n",
    "\n",
    "no_of_items=int(input(\"Enter the no.item\"))\n",
    "print(\"-\"*55)\n",
    "\n",
    "\n",
    "for i in range(1,no_of_items + 1):\n",
    "    Menu=input(f\"Enter the item {i}:\")\n",
    "    Quntity=int(input(f\"Enter qunt{Menu}:\"))\n",
    "    Price=float(input(f\"Enter price:{Menu}:\"))\n",
    "    item_total= Quntity*Price\n",
    "    Total += item_total\n",
    "    print(\"{:<10}{:<10}{:>10}{:>15.2f}\".format(i, Menu, Quntity, item_total))\n",
    "\n",
    "print(\"-\"*55)\n",
    "print(\"{:>15}{:>30}\".format(\"Total\",Total))\n",
    "\n",
    "\n",
    "\n",
    "\n",
    "#print(\"{:>15}\".format(\"Total\") + \"{:>30}\".format(120))\n"
   ]
  }
 ],
 "metadata": {
  "kernelspec": {
   "display_name": "Python 3",
   "language": "python",
   "name": "python3"
  },
  "language_info": {
   "codemirror_mode": {
    "name": "ipython",
    "version": 3
   },
   "file_extension": ".py",
   "mimetype": "text/x-python",
   "name": "python",
   "nbconvert_exporter": "python",
   "pygments_lexer": "ipython3",
   "version": "3.12.8"
  }
 },
 "nbformat": 4,
 "nbformat_minor": 2
}
