{
 "cells": [
  {
   "cell_type": "code",
   "execution_count": null,
   "metadata": {},
   "outputs": [],
   "source": [
    "Que 5)Create lambda function for your data "
   ]
  },
  {
   "cell_type": "code",
   "execution_count": null,
   "metadata": {},
   "outputs": [],
   "source": [
    "valid_name= lambda x:x.isalpha()\n",
    "valid_age= lambda x: x>=18 and x<=40\n",
    "\n",
    "name=input(\"Enter the name:\")\n",
    "if valid_name(name):\n",
    "    print(name)22\n",
    "    \n",
    "else:\n",
    "    print(\"Invalid Name, Please enter valid name\")\n",
    "    \n",
    "age=int(input(\"Enter the age:\"))\n",
    "if valid_age(age):\n",
    "    print(\"Eligible\",age)\n",
    "else:\n",
    "    print(\"You are not eligible\")"
   ]
  }
 ],
 "metadata": {
  "kernelspec": {
   "display_name": "Python 3",
   "language": "python",
   "name": "python3"
  },
  "language_info": {
   "name": "python",
   "version": "3.12.8"
  }
 },
 "nbformat": 4,
 "nbformat_minor": 2
}
