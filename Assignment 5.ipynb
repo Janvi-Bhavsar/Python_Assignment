{
 "cells": [
  {
   "cell_type": "code",
   "execution_count": null,
   "metadata": {},
   "outputs": [],
   "source": [
    "Que 5)Create lambda function for your data "
   ]
  },
  {
   "cell_type": "code",
   "execution_count": 4,
   "metadata": {},
   "outputs": [
    {
     "name": "stdout",
     "output_type": "stream",
     "text": [
      "Valid Name: Janvi\n",
      "Eligible 23\n"
     ]
    }
   ],
   "source": [
    "valid_name= lambda x:x.isalpha()\n",
    "valid_age= lambda x: x>=18 and x<=40\n",
    "\n",
    "name=input(\"Enter the name:\")\n",
    "if valid_name(name):\n",
    "    print(\"Valid Name:\",name)\n",
    "    \n",
    "else:\n",
    "    print(\"Invalid Name, Please enter valid name\")\n",
    "    \n",
    "age=int(input(\"Enter the age:\"))\n",
    "if valid_age(age):\n",
    "    print(\"Eligible\",age)\n",
    "else:\n",
    "    print(\"You are not eligible\")"
   ]
  }
 ],
 "metadata": {
  "kernelspec": {
   "display_name": "Python 3",
   "language": "python",
   "name": "python3"
  },
  "language_info": {
   "codemirror_mode": {
    "name": "ipython",
    "version": 3
   },
   "file_extension": ".py",
   "mimetype": "text/x-python",
   "name": "python",
   "nbconvert_exporter": "python",
   "pygments_lexer": "ipython3",
   "version": "3.12.8"
  }
 },
 "nbformat": 4,
 "nbformat_minor": 2
}
