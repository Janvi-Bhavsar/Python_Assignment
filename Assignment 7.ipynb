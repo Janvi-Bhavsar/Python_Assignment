{
 "cells": [
  {
   "cell_type": "markdown",
   "metadata": {},
   "source": [
    "QUE 7) Create a logic to segregate folders based on file size. Make 3 folders small size, middle size, large size folder and transfer the files to respective folders "
   ]
  },
  {
   "cell_type": "code",
   "execution_count": null,
   "metadata": {},
   "outputs": [],
   "source": [
    "for i in os.listdir(r\"D:\\jan\"):\n",
    "     filename=\"D:\\jan\\\\\"+i\n",
    "     print(filename)\n",
    "     sz=os.stat(filename).st_size/1000\n",
    "     print(filename,sz,\"kb\")\n",
    "     \n",
    "     if sz <=20 and sz>=50:\n",
    "          shutil.copy(filename,\"E:\\\\taskkkk\\\\small file\")\n",
    "          \n",
    "          print(\"smallfile\")\n",
    "     elif sz >50 and sz>=100:\n",
    "          shutil.copy(filename,\"E:\\\\taskkkk\\\\medium file\")\n",
    "          \n",
    "          print(\"Mediumfile\")\n",
    "     else:\n",
    "          shutil.copy(filename,\"E:\\\\taskkkk\\\\large file\")\n",
    "          print(\"largefile\")\n",
    "       \n",
    "          \n",
    "     "
   ]
  }
 ],
 "metadata": {
  "kernelspec": {
   "display_name": "Python 3",
   "language": "python",
   "name": "python3"
  },
  "language_info": {
   "name": "python",
   "version": "3.12.8"
  }
 },
 "nbformat": 4,
 "nbformat_minor": 2
}
