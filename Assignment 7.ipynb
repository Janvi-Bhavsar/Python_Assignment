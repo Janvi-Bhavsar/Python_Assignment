{
 "cells": [
  {
   "cell_type": "markdown",
   "metadata": {},
   "source": [
    "QUE 7) Create a logic to segregate folders based on file size. Make 3 folders small size, middle size, large size folder and transfer the files to respective folders "
   ]
  },
  {
   "cell_type": "code",
   "execution_count": 4,
   "metadata": {},
   "outputs": [],
   "source": [
    "import os\n",
    "import shutil"
   ]
  },
  {
   "cell_type": "code",
   "execution_count": 5,
   "metadata": {},
   "outputs": [
    {
     "name": "stdout",
     "output_type": "stream",
     "text": [
      "D:\\jan\\02-functions.ipynb\n",
      "D:\\jan\\02-functions.ipynb 121.088 kb\n",
      "Mediumfile\n",
      "D:\\jan\\03-generators.ipynb\n",
      "D:\\jan\\03-generators.ipynb 1568.961 kb\n",
      "Mediumfile\n",
      "D:\\jan\\04-Iterators.ipynb\n",
      "D:\\jan\\04-Iterators.ipynb 96.146 kb\n",
      "largefile\n",
      "D:\\jan\\04_proper_name_log_file.py\n",
      "D:\\jan\\04_proper_name_log_file.py 0.709 kb\n",
      "largefile\n",
      "D:\\jan\\Example_logging.ipynb\n",
      "D:\\jan\\Example_logging.ipynb 3.971 kb\n",
      "largefile\n",
      "D:\\jan\\ex_datetime.ipynb\n",
      "D:\\jan\\ex_datetime.ipynb 259.702 kb\n",
      "Mediumfile\n",
      "D:\\jan\\OOPs concept.ipynb\n",
      "D:\\jan\\OOPs concept.ipynb 195.249 kb\n",
      "Mediumfile\n",
      "D:\\jan\\python-01-DICT.ipynb\n",
      "D:\\jan\\python-01-DICT.ipynb 63.039 kb\n",
      "largefile\n",
      "D:\\jan\\python-02-LIST.ipynb\n",
      "D:\\jan\\python-02-LIST.ipynb 51.954 kb\n",
      "largefile\n",
      "D:\\jan\\python-03-SETS.ipynb\n",
      "D:\\jan\\python-03-SETS.ipynb 20.161 kb\n",
      "largefile\n",
      "D:\\jan\\python-04-STRINGS.ipynb\n",
      "D:\\jan\\python-04-STRINGS.ipynb 74.889 kb\n",
      "largefile\n",
      "D:\\jan\\python-05-TUPLES.ipynb\n",
      "D:\\jan\\python-05-TUPLES.ipynb 30.89 kb\n",
      "largefile\n",
      "D:\\jan\\RegularExpression.ipynb\n",
      "D:\\jan\\RegularExpression.ipynb 47.492 kb\n",
      "largefile\n"
     ]
    }
   ],
   "source": [
    "for i in os.listdir(r\"D:\\jan\"):\n",
    "     filename=\"D:\\jan\\\\\"+i\n",
    "     print(filename)\n",
    "     sz=os.stat(filename).st_size/1000\n",
    "     print(filename,sz,\"kb\")\n",
    "     \n",
    "     if sz <=20 and sz>=50:\n",
    "          shutil.copy(filename,\"E:\\\\taskkkk\\\\small file\")\n",
    "          \n",
    "          print(\"smallfile\")\n",
    "     elif sz >50 and sz>=100:\n",
    "          shutil.copy(filename,\"E:\\\\taskkkk\\\\medium file\")\n",
    "          \n",
    "          print(\"Mediumfile\")\n",
    "     else:\n",
    "          shutil.copy(filename,\"E:\\\\taskkkk\\\\large file\")\n",
    "          print(\"largefile\")\n",
    "       \n",
    "          \n",
    "     "
   ]
  }
 ],
 "metadata": {
  "kernelspec": {
   "display_name": "Python 3",
   "language": "python",
   "name": "python3"
  },
  "language_info": {
   "codemirror_mode": {
    "name": "ipython",
    "version": 3
   },
   "file_extension": ".py",
   "mimetype": "text/x-python",
   "name": "python",
   "nbconvert_exporter": "python",
   "pygments_lexer": "ipython3",
   "version": "3.12.8"
  }
 },
 "nbformat": 4,
 "nbformat_minor": 2
}
