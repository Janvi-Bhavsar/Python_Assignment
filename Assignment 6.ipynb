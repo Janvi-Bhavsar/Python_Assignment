{
 "cells": [
  {
   "cell_type": "markdown",
   "metadata": {},
   "source": [
    "QUE 6) Calculate the age based on the date entered "
   ]
  },
  {
   "cell_type": "code",
   "execution_count": 2,
   "metadata": {},
   "outputs": [],
   "source": [
    "from datetime import datetime "
   ]
  },
  {
   "cell_type": "code",
   "execution_count": 3,
   "metadata": {},
   "outputs": [
    {
     "name": "stdout",
     "output_type": "stream",
     "text": [
      "Your age is: 23\n"
     ]
    }
   ],
   "source": [
    "year=int(input(\"enter year\"))\n",
    "month=int(input(\"enter month\"))\n",
    "day=int(input(\"enter day\"))\n",
    "\n",
    "try:\n",
    "     date_of_birth=datetime(year,month,day)\n",
    "\n",
    "except ValueError:\n",
    "     print(\"Invalide date\")\n",
    "     exit()\n",
    "current_date=datetime.now()\n",
    "\n",
    "age=current_date.year-date_of_birth.year\n",
    "if (current_date.month,current_date.day)<(date_of_birth.month,date_of_birth.day):\n",
    "    age-=1\n",
    "\n",
    "print(f\"Your age is: {age}\")\n",
    "\n"
   ]
  }
 ],
 "metadata": {
  "kernelspec": {
   "display_name": "Python 3",
   "language": "python",
   "name": "python3"
  },
  "language_info": {
   "codemirror_mode": {
    "name": "ipython",
    "version": 3
   },
   "file_extension": ".py",
   "mimetype": "text/x-python",
   "name": "python",
   "nbconvert_exporter": "python",
   "pygments_lexer": "ipython3",
   "version": "3.12.8"
  }
 },
 "nbformat": 4,
 "nbformat_minor": 2
}
