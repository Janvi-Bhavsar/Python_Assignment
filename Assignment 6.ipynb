{
 "cells": [
  {
   "cell_type": "markdown",
   "metadata": {},
   "source": [
    "QUE 6) Calculate the age based on the date entered "
   ]
  },
  {
   "cell_type": "code",
   "execution_count": null,
   "metadata": {},
   "outputs": [],
   "source": [
    "year=int(input(\"enter year\"))\n",
    "month=int(input(\"enter month\"))\n",
    "day=int(input(\"enter day\"))\n",
    "\n",
    "try:\n",
    "     date_of_birth=datetime(year,month,day)\n",
    "\n",
    "except ValueError:\n",
    "     print(\"Invalide date\")\n",
    "     exit()\n",
    "current_date=datetime.now()\n",
    "\n",
    "age=current_date.year-date_of_birth.year\n",
    "if (current_date.month,current_date.day)<(date_of_birth.month,date_of_birth.day):\n",
    "    age-=1\n",
    "\n",
    "print(f\"Your age is: {age}\")\n",
    "\n"
   ]
  }
 ],
 "metadata": {
  "kernelspec": {
   "display_name": "Python 3",
   "language": "python",
   "name": "python3"
  },
  "language_info": {
   "name": "python",
   "version": "3.12.8"
  }
 },
 "nbformat": 4,
 "nbformat_minor": 2
}
