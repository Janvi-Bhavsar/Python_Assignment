{
 "cells": [
  {
   "cell_type": "markdown",
   "metadata": {},
   "source": [
    "Que 2) User will enter the start date and end date. Ask user to enter the task to be done on weekdays. If it is weekend then no task should be allotted. "
   ]
  },
  {
   "cell_type": "code",
   "execution_count": 1,
   "metadata": {},
   "outputs": [
    {
     "name": "stdout",
     "output_type": "stream",
     "text": [
      "\n",
      "tasks:\n",
      "{'2025-01-20': 'Complete SQL Assignment', '2025-01-21': 'Study Python basics and task', '2025-01-22': 'OOPs task', '2025-01-23': 'Soft skills Activities', '2025-01-24': 'Presentation', '2025-01-25': 'no task (Weekend)'}\n"
     ]
    }
   ],
   "source": [
    "from datetime import datetime, timedelta\n",
    "start_date=datetime.strptime(input(\"enter date (YYYY:-MM:-DD):\"), \"%Y-%m-%d\")\n",
    "end_date=datetime.strptime(input(\"enter date (YYYY:-MM:-DD):\"), \"%Y-%m-%d\")\n",
    "start_date\n",
    "end_date\n",
    "current_date = start_date\n",
    "tasks = {}\n",
    "while current_date <= end_date:\n",
    "    if current_date.weekday() < 5: \n",
    "        task = input(f\"enter task {current_date.strftime('%A, %d %B %Y')}: \")\n",
    "        tasks[current_date.strftime('%Y-%m-%d')]=task\n",
    "    else:  \n",
    "        tasks[current_date.strftime('%Y-%m-%d')]=\"no task (Weekend)\"\n",
    "    \n",
    "    current_date += timedelta(days=1)\n",
    "\n",
    "print(\"\\ntasks:\")\n",
    "print(tasks)\n"
   ]
  }
 ],
 "metadata": {
  "kernelspec": {
   "display_name": "Python 3",
   "language": "python",
   "name": "python3"
  },
  "language_info": {
   "codemirror_mode": {
    "name": "ipython",
    "version": 3
   },
   "file_extension": ".py",
   "mimetype": "text/x-python",
   "name": "python",
   "nbconvert_exporter": "python",
   "pygments_lexer": "ipython3",
   "version": "3.12.8"
  }
 },
 "nbformat": 4,
 "nbformat_minor": 2
}
