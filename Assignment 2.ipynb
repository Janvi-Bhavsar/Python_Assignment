{
 "cells": [
  {
   "cell_type": "markdown",
   "metadata": {},
   "source": [
    "Que 2) User will enter the start date and end date. Ask user to enter the task to be done on weekdays. If it is weekend then no task should be allotted. "
   ]
  },
  {
   "cell_type": "code",
   "execution_count": null,
   "metadata": {},
   "outputs": [],
   "source": [
    "from datetime import datetime, timedelta\n",
    "start_date=datetime.strptime(input(\"enter date (YYYY:-MM:-DD):\"), \"%Y-%m-%d\")\n",
    "end_date=datetime.strptime(input(\"enter date (YYYY:-MM:-DD):\"), \"%Y-%m-%d\")\n",
    "start_date\n",
    "end_date\n",
    "current_date = start_date\n",
    "tasks = {}\n",
    "while current_date <= end_date:\n",
    "    if current_date.weekday() < 5: \n",
    "        task = input(f\"enter task {current_date.strftime('%A, %d %B %Y')}: \")\n",
    "        tasks[current_date.strftime('%Y-%m-%d')]=task\n",
    "    else:  \n",
    "        tasks[current_date.strftime('%Y-%m-%d')]=\"no task (Weekend)\"\n",
    "    \n",
    "    current_date += timedelta(days=1)\n",
    "\n",
    "print(\"\\ntasks:\")\n",
    "print(tasks)\n"
   ]
  }
 ],
 "metadata": {
  "kernelspec": {
   "display_name": "Python 3",
   "language": "python",
   "name": "python3"
  },
  "language_info": {
   "name": "python",
   "version": "3.12.8"
  }
 },
 "nbformat": 4,
 "nbformat_minor": 2
}
