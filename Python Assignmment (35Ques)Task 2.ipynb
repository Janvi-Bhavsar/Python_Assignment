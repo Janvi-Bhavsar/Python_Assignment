{
 "cells": [
  {
   "cell_type": "markdown",
   "metadata": {},
   "source": [
    "1. Create the empty list and ask user to enters only int, float elements in the list."
   ]
  },
  {
   "cell_type": "code",
   "execution_count": 10,
   "metadata": {},
   "outputs": [
    {
     "name": "stdout",
     "output_type": "stream",
     "text": [
      "New_updated list: [[34.0, 5.5, 2.3, 12.0, 2.0]]\n"
     ]
    }
   ],
   "source": [
    "new_list=[]\n",
    "number=input(\"enter the num:\").split()\n",
    "try:\n",
    "    number=[float(num) for num in number]\n",
    "    new_list.append(number)\n",
    "    print(\"New_updated list:\",new_list)\n",
    "except ValueError:\n",
    "    print(\"Invalid input\")"
   ]
  },
  {
   "cell_type": "markdown",
   "metadata": {},
   "source": [
    "#Explanation:Here, I created an empty list called new_list, which will store the valid numeric input.split() is used to break the input into individual elements, storing them as a list of strings.This list comprehension attempts to convert each element in number to a floating-point number (float).If all elements are valid numbers, the conversion is successful.The converted list of numbers is added to new_list.Since .append() adds the entire list as a single element, If the user enters a non-numeric value conversion will fail.A ValueError will be raised, and the program will display \"Invalid input\" instead of crashing."
   ]
  },
  {
   "cell_type": "markdown",
   "metadata": {},
   "source": [
    "2.\tCreate a empty dictionary d1 ask user to enter the values using loop"
   ]
  },
  {
   "cell_type": "code",
   "execution_count": 26,
   "metadata": {},
   "outputs": [
    {
     "name": "stdout",
     "output_type": "stream",
     "text": [
      "{'name': 'janvi', 'place': 'Dharangaon'}\n"
     ]
    }
   ],
   "source": [
    "d1={}\n",
    "\n",
    "n=int(input(\"Enter the range:\"))\n",
    "for i in range(n):\n",
    "    key=input(f\"Enter the keys{i+1}\")\n",
    "    value=input(f\"Enter the values{i+1}\")\n",
    "    d1[key]=value\n",
    "print(d1)\n",
    "\n"
   ]
  },
  {
   "cell_type": "markdown",
   "metadata": {},
   "source": [
    "###Explanation:  \n",
    "Here, I created an empty dictionary called d1, which will store the key-value pairs entered by the user. The user inputs a number (n) to define how many key-value pairs they want to add. A for loop runs n times, asking the user for a key and a value in each iteration. The entered key-value pair is then stored in 'd1' using dictionary assignment. Since all inputs are taken as strings, the values are stored as string data types. Finally, the dictionary is printed, displaying all the stored key-value pairs."
   ]
  },
  {
   "cell_type": "markdown",
   "metadata": {},
   "source": [
    "3.\tCreate a empty dictionary d1 ask user to enter the values using comprehensive list"
   ]
  },
  {
   "cell_type": "code",
   "execution_count": 27,
   "metadata": {},
   "outputs": [
    {
     "name": "stdout",
     "output_type": "stream",
     "text": [
      "{'NAme': 'Janvi', 'Age': '23', 'Location': 'Dharangaon'}\n"
     ]
    }
   ],
   "source": [
    "key=input(\"enter the keys:\").split()\n",
    "values=input(\"enter the values:\").split()\n",
    "\n",
    "d1={k:v for k,v in zip(key,values)}\n",
    "print(d1)\n"
   ]
  },
  {
   "cell_type": "markdown",
   "metadata": {},
   "source": [
    "4.\tCreate a function which will accept two integer or float parameter from user and return 4 arithmetic operations in the form of tuple. If user pass argument other than integer and float then error should be created."
   ]
  },
  {
   "cell_type": "code",
   "execution_count": 47,
   "metadata": {},
   "outputs": [],
   "source": [
    "def fun_with2arg(a=int|float,b=int|float):\n",
    "    if isinstance(a, (int, float)) and isinstance(b, (int, float)):\n",
    "        return a+b,a-b,a/b,a*b\n",
    "    else:\n",
    "        raise TypeError(\"Please provide either integer or float\")\n"
   ]
  },
  {
   "cell_type": "code",
   "execution_count": 51,
   "metadata": {},
   "outputs": [
    {
     "name": "stdout",
     "output_type": "stream",
     "text": [
      "(8, -2, 0.6, 15)\n"
     ]
    },
    {
     "ename": "TypeError",
     "evalue": "Please provide either integer or float",
     "output_type": "error",
     "traceback": [
      "\u001b[1;31m---------------------------------------------------------------------------\u001b[0m",
      "\u001b[1;31mTypeError\u001b[0m                                 Traceback (most recent call last)",
      "Cell \u001b[1;32mIn[51], line 2\u001b[0m\n\u001b[0;32m      1\u001b[0m \u001b[38;5;28mprint\u001b[39m(fun_with2arg(\u001b[38;5;241m3\u001b[39m,\u001b[38;5;241m5\u001b[39m))\n\u001b[1;32m----> 2\u001b[0m \u001b[38;5;28mprint\u001b[39m(\u001b[43mfun_with2arg\u001b[49m\u001b[43m(\u001b[49m\u001b[38;5;124;43m'\u001b[39;49m\u001b[38;5;124;43mhj\u001b[39;49m\u001b[38;5;124;43m'\u001b[39;49m\u001b[43m,\u001b[49m\u001b[38;5;241;43m4\u001b[39;49m\u001b[43m)\u001b[49m)\n",
      "Cell \u001b[1;32mIn[47], line 5\u001b[0m, in \u001b[0;36mfun_with2arg\u001b[1;34m(a, b)\u001b[0m\n\u001b[0;32m      3\u001b[0m     \u001b[38;5;28;01mreturn\u001b[39;00m a\u001b[38;5;241m+\u001b[39mb,a\u001b[38;5;241m-\u001b[39mb,a\u001b[38;5;241m/\u001b[39mb,a\u001b[38;5;241m*\u001b[39mb\n\u001b[0;32m      4\u001b[0m \u001b[38;5;28;01melse\u001b[39;00m:\n\u001b[1;32m----> 5\u001b[0m     \u001b[38;5;28;01mraise\u001b[39;00m \u001b[38;5;167;01mTypeError\u001b[39;00m(\u001b[38;5;124m\"\u001b[39m\u001b[38;5;124mPlease provide either integer or float\u001b[39m\u001b[38;5;124m\"\u001b[39m)\n",
      "\u001b[1;31mTypeError\u001b[0m: Please provide either integer or float"
     ]
    }
   ],
   "source": [
    "print(fun_with2arg(3,5))\n",
    "print(fun_with2arg('hj',4))\n",
    "\n"
   ]
  },
  {
   "cell_type": "code",
   "execution_count": null,
   "metadata": {},
   "outputs": [],
   "source": [
    "def fun_with2arg(a:int|float,b:int|float):\n",
    "    try:\n",
    "        if isinstance(a, (int, float)) and isinstance(b, (int, float)):\n",
    "           return a+b,a-b,a/b,a*b\n",
    "        else:\n",
    "           raise TypeError(\"Please provide either integer or float\")\n",
    "    except Exception as e:\n",
    "        print(f\"error;{e}\")"
   ]
  },
  {
   "cell_type": "code",
   "execution_count": 18,
   "metadata": {},
   "outputs": [
    {
     "name": "stdout",
     "output_type": "stream",
     "text": [
      "(8, -2, 0.6, 15)\n",
      "error;Please provide either integer or float\n",
      "None\n"
     ]
    }
   ],
   "source": [
    "print(fun_with2arg(3,5))\n",
    "print(fun_with2arg('hj',5))\n",
    "\n"
   ]
  },
  {
   "cell_type": "markdown",
   "metadata": {},
   "source": [
    "#Explanation:This function, fun_with2arg(a, b), takes two arguments (a and b) that should be either integers or floats. It performs basic arithmetic operations (addition, subtraction, division, and multiplication) and handles errors"
   ]
  },
  {
   "cell_type": "markdown",
   "metadata": {},
   "source": [
    "5.\t Based on the above function (Question number 4) dived the outcome of multiplication by 2. "
   ]
  },
  {
   "cell_type": "code",
   "execution_count": null,
   "metadata": {},
   "outputs": [],
   "source": [
    "def fun_with2arg(a=int|float,b=int|float):\n",
    "    if isinstance(a, (int, float)) and isinstance(b, (int, float)):\n",
    "        return a+b,a-b,a/b,(a/b*2),a*b\n",
    "    else:\n",
    "        raise TypeError(\"Please provide either integer or float\")\n"
   ]
  },
  {
   "cell_type": "code",
   "execution_count": null,
   "metadata": {},
   "outputs": [
    {
     "name": "stdout",
     "output_type": "stream",
     "text": [
      "(8.4, 4.4, 3.2, 6.4, 12.8)\n"
     ]
    }
   ],
   "source": [
    "print(fun_with2arg(6.4,2))"
   ]
  },
  {
   "cell_type": "markdown",
   "metadata": {},
   "source": [
    "6.\tcreate a function to add only string element in a list. if other than string display the appropriate message."
   ]
  },
  {
   "cell_type": "code",
   "execution_count": null,
   "metadata": {},
   "outputs": [],
   "source": [
    "lst=[]\n",
    "\n",
    "def string_checking(string):\n",
    "    if isinstance(string,(str)):\n",
    "        for i in range(n):\n",
    "            name=input(f\"enter the name:{i+1}\")\n",
    "            lst.append(name)\n",
    "            print(\"new_str_list:\",lst)\n",
    "    else:\n",
    "        raise TypeError(\"not string\")\n",
    "    \n",
    "     "
   ]
  },
  {
   "cell_type": "markdown",
   "metadata": {},
   "source": [
    "or"
   ]
  },
  {
   "cell_type": "code",
   "execution_count": 19,
   "metadata": {},
   "outputs": [
    {
     "name": "stdout",
     "output_type": "stream",
     "text": [
      "New_list: ['Janvi', 'Bhavsar', 'Dharangaon']\n",
      "None\n"
     ]
    }
   ],
   "source": [
    "lst=[]\n",
    "def checking_s(n):\n",
    "    for i in range(n):\n",
    "        s=input(f\"enter the value:{i+1}\")\n",
    "        if isinstance(s,str):\n",
    "            lst.append(s)\n",
    "        else:\n",
    "            raise TypeError(\"not a string\")\n",
    "\n",
    "    print(\"New_list:\",lst)\n",
    "    \n",
    "num_string=int(input(\"enter the number of string:\"))\n",
    "print(checking_s(num_string))"
   ]
  },
  {
   "cell_type": "code",
   "execution_count": null,
   "metadata": {},
   "outputs": [
    {
     "name": "stdout",
     "output_type": "stream",
     "text": [
      "New_list: ['janvi', 'kalashri', 'madhuri', 'yash']\n",
      "None\n"
     ]
    }
   ],
   "source": []
  },
  {
   "cell_type": "markdown",
   "metadata": {},
   "source": [
    "7. Create a function to read the file and return the dictionary of total lines, total words"
   ]
  },
  {
   "cell_type": "code",
   "execution_count": 25,
   "metadata": {},
   "outputs": [
    {
     "name": "stdout",
     "output_type": "stream",
     "text": [
      "{'total lines': 50, 'total words': 244}\n"
     ]
    }
   ],
   "source": [
    "def count_lines_and_words(filename):\n",
    "    with open(filename, 'r', encoding='utf-8') as file:\n",
    "        lines = file.readlines()  \n",
    "        num_lines = len(lines)  \n",
    "        num_words = sum(len(line.split()) for line in lines)  \n",
    "    \n",
    "    return {\"total lines\":num_lines,\"total words\":num_words}\n",
    "\n",
    "results=count_lines_and_words(\"C:\\\\Users\\\\Hp\\\\Downloads\\\\OneDrive_2025-02-12\\\\SQL server\\\\Questionaries (1).txt\")\n",
    "print(results)"
   ]
  },
  {
   "cell_type": "markdown",
   "metadata": {},
   "source": [
    "8.\tCreate a function which will accept the dictionary and display key values in separate line."
   ]
  },
  {
   "cell_type": "code",
   "execution_count": 8,
   "metadata": {},
   "outputs": [],
   "source": [
    "d1={}\n",
    "n=int(input(\"Enter the range:\"))\n",
    "for i in range(n):\n",
    "    key=input(f\"Enter the keys{i+1}\")\n",
    "    value=input(f\"Enter the values{i+1}\")\n",
    "    d1[key]=value\n",
    "    \n",
    "def seprating_dict(d):\n",
    "    for key,value in d.items():\n",
    "        print(f\"Key:{key} Value:{value}\")\n",
    "        \n",
    "        \n",
    "        \n"
   ]
  },
  {
   "cell_type": "code",
   "execution_count": 9,
   "metadata": {},
   "outputs": [
    {
     "name": "stdout",
     "output_type": "stream",
     "text": [
      "Key:name Value:janvi\n",
      "Key:surname Value:Bhavsar\n"
     ]
    }
   ],
   "source": [
    "seprating_dict(d1)"
   ]
  },
  {
   "cell_type": "markdown",
   "metadata": {},
   "source": [
    "9.Create a lambda function which will accept the dictionary and display key values in separate line."
   ]
  },
  {
   "cell_type": "code",
   "execution_count": 30,
   "metadata": {},
   "outputs": [
    {
     "name": "stdout",
     "output_type": "stream",
     "text": [
      "Name: Janvi\n",
      "Age: 23\n"
     ]
    }
   ],
   "source": [
    "print_dict = lambda d: '\\n'.join(f\"{k}: {v}\" for k, v in d.items())\n",
    "my_dict = {'Name':'Janvi', 'Age': 23}\n",
    "print(print_dict(my_dict))\n"
   ]
  },
  {
   "cell_type": "markdown",
   "metadata": {},
   "source": [
    "10.\tCreate a function to validate the password: password should contains at least one small letter, one capital letter, one number, and one special character except comma, quotes"
   ]
  },
  {
   "cell_type": "code",
   "execution_count": null,
   "metadata": {},
   "outputs": [
    {
     "name": "stdout",
     "output_type": "stream",
     "text": [
      "Valid Password!\n",
      "<re.Match object; span=(0, 10), match='Janvi@2765'>\n",
      "Valid Password!\n",
      "<re.Match object; span=(0, 12), match='Bhavsar@2020'>\n"
     ]
    }
   ],
   "source": [
    "import re\n",
    "from re import match\n",
    "def pass_word(passWord):\n",
    "    pattern=r\"^(?=.*[A-Z])(?=.*[a-z])(?=.*[0-9])(?=.*[!@#$%^&*])[A-Za-z0-9!@#$%^&*]+$\"\n",
    "    if re.match(pattern,passWord):\n",
    "       print(\"Valid Password!\")\n",
    "       print(re.match(pattern,passWord))\n",
    "    else:\n",
    "       raise ValueError(\"Password is invalid!\")\n",
    "try:\n",
    "   Password=input(\"enter the pattern\")\n",
    "   pass_word(Password)\n",
    "   pass_word(\"Bhavsar@2020\")\n",
    "\n",
    "except ValueError as e:\n",
    "   print(f\"Error:{e}\")\n",
    "    \n",
    "    "
   ]
  },
  {
   "cell_type": "markdown",
   "metadata": {},
   "source": [
    "^ → Start of the string\n",
    "(?=.*[A-Z]) → At least one uppercase letter\n",
    "(?=.*[a-z]) → At least one lowercase letter\n",
    "(?=.*[0-9]) → At least one digit\n",
    "(?=.*[!@#$%^&*]) → At least one special character\n",
    "[A-Za-z0-9!@#$%^&*]+ → Allows only specified characters\n",
    "$ → End of the string\n"
   ]
  },
  {
   "cell_type": "markdown",
   "metadata": {},
   "source": [
    "11.\tGenerate a decorator having logic to accept natural numbers . which can be used in a function of factorial"
   ]
  },
  {
   "cell_type": "code",
   "execution_count": 31,
   "metadata": {},
   "outputs": [],
   "source": [
    "import functools\n",
    "\n",
    "def accept_natural_numbers(func):\n",
    "    @functools.wraps(func)\n",
    "    def wrapper(n):\n",
    "        if not isinstance(n, int) or n <= 0:\n",
    "            raise ValueError(\"Input must be a natural number (positive integer)\")\n",
    "        return func(n)  \n",
    "    return wrapper\n",
    "\n",
    "@accept_natural_numbers\n",
    "def factorial(n):\n",
    "    if n == 1:\n",
    "        return 1\n",
    "    return n * factorial(n - 1)\n",
    "\n"
   ]
  },
  {
   "cell_type": "code",
   "execution_count": 32,
   "metadata": {},
   "outputs": [
    {
     "name": "stdout",
     "output_type": "stream",
     "text": [
      "120\n"
     ]
    },
    {
     "ename": "ValueError",
     "evalue": "Input must be a natural number (positive integer)",
     "output_type": "error",
     "traceback": [
      "\u001b[1;31m---------------------------------------------------------------------------\u001b[0m",
      "\u001b[1;31mValueError\u001b[0m                                Traceback (most recent call last)",
      "Cell \u001b[1;32mIn[32], line 2\u001b[0m\n\u001b[0;32m      1\u001b[0m \u001b[38;5;28mprint\u001b[39m(factorial(\u001b[38;5;241m5\u001b[39m))  \n\u001b[1;32m----> 2\u001b[0m \u001b[38;5;28mprint\u001b[39m(\u001b[43mfactorial\u001b[49m\u001b[43m(\u001b[49m\u001b[38;5;241;43m-\u001b[39;49m\u001b[38;5;241;43m3\u001b[39;49m\u001b[43m)\u001b[49m)  \n\u001b[0;32m      3\u001b[0m \u001b[38;5;28mprint\u001b[39m(factorial(\u001b[38;5;241m3.5\u001b[39m))  \n",
      "Cell \u001b[1;32mIn[31], line 7\u001b[0m, in \u001b[0;36maccept_natural_numbers.<locals>.wrapper\u001b[1;34m(n)\u001b[0m\n\u001b[0;32m      4\u001b[0m \u001b[38;5;129m@functools\u001b[39m\u001b[38;5;241m.\u001b[39mwraps(func)\n\u001b[0;32m      5\u001b[0m \u001b[38;5;28;01mdef\u001b[39;00m\u001b[38;5;250m \u001b[39m\u001b[38;5;21mwrapper\u001b[39m(n):\n\u001b[0;32m      6\u001b[0m     \u001b[38;5;28;01mif\u001b[39;00m \u001b[38;5;129;01mnot\u001b[39;00m \u001b[38;5;28misinstance\u001b[39m(n, \u001b[38;5;28mint\u001b[39m) \u001b[38;5;129;01mor\u001b[39;00m n \u001b[38;5;241m<\u001b[39m\u001b[38;5;241m=\u001b[39m \u001b[38;5;241m0\u001b[39m:\n\u001b[1;32m----> 7\u001b[0m         \u001b[38;5;28;01mraise\u001b[39;00m \u001b[38;5;167;01mValueError\u001b[39;00m(\u001b[38;5;124m\"\u001b[39m\u001b[38;5;124mInput must be a natural number (positive integer)\u001b[39m\u001b[38;5;124m\"\u001b[39m)\n\u001b[0;32m      8\u001b[0m     \u001b[38;5;28;01mreturn\u001b[39;00m func(n)\n",
      "\u001b[1;31mValueError\u001b[0m: Input must be a natural number (positive integer)"
     ]
    }
   ],
   "source": [
    "print(factorial(5))  \n",
    "print(factorial(-3))  \n",
    "print(factorial(3.5))  \n"
   ]
  },
  {
   "cell_type": "markdown",
   "metadata": {},
   "source": [
    "12.\tGenerate the decorator for a Garden visit to check if current time is between 7am to 7pm.  If true the only call the function else generate the error. \n",
    "a.\tFunction payment_check() is active only within given time span and it will check for all user transaction in that given month.\n",
    "b.\tFunction entry() will be perform entry transaction of the user\n",
    "c. Function exit() will update the outtime of the user if entry exists"
   ]
  },
  {
   "cell_type": "code",
   "execution_count": null,
   "metadata": {},
   "outputs": [],
   "source": [
    "import functools\n",
    "import datetime\n",
    "\n",
    "def garden_visit_allowed(func):\n",
    "    @functools.wraps(func)\n",
    "    def wrapper(*args, **kwargs):\n",
    "        current_time = datetime.datetime.now().time()\n",
    "        if datetime.time(7, 0) <= current_time <= datetime.time(19, 0):  \n",
    "            return func(*args, **kwargs)  \n",
    "        else:\n",
    "            raise PermissionError(\"Access denied! Garden visit allowed only between 7 AM and 7 PM.\")\n",
    "    return wrapper\n"
   ]
  },
  {
   "cell_type": "code",
   "execution_count": null,
   "metadata": {},
   "outputs": [],
   "source": [
    "@garden_visit_allowed\n",
    "def payment_check(user_id):\n",
    "    print(f\"Checking payments for user {user_id}...\")\n",
    "\n",
    "@garden_visit_allowed\n",
    "def entry(user_id):\n",
    "    print(f\"User {user_id} entered the garden at {datetime.datetime.now().time()}\")\n",
    "\n",
    "@garden_visit_allowed\n",
    "def exit(user_id):\n",
    "    print(f\"User {user_id} exited the garden at {datetime.datetime.now().time()}\")\n"
   ]
  },
  {
   "cell_type": "code",
   "execution_count": 33,
   "metadata": {},
   "outputs": [
    {
     "name": "stdout",
     "output_type": "stream",
     "text": [
      "Access denied! Garden visit allowed only between 7 AM and 7 PM.\n"
     ]
    }
   ],
   "source": [
    "try:\n",
    "    payment_check(101)\n",
    "    entry(102)\n",
    "    exit(103)\n",
    "except PermissionError as e:\n",
    "    print(e)\n"
   ]
  },
  {
   "cell_type": "markdown",
   "metadata": {},
   "source": [
    "13.\tCreate lambda function for sorting of the string"
   ]
  },
  {
   "cell_type": "code",
   "execution_count": 37,
   "metadata": {},
   "outputs": [
    {
     "name": "stdout",
     "output_type": "stream",
     "text": [
      "['Access', 'Denied!', 'Garden', 'Visit', 'allowed']\n"
     ]
    }
   ],
   "source": [
    "strings = [\"Garden\",\"allowed\",\"Visit\",\"Access\",\"Denied!\"]\n",
    "sorted_strings = sorted(strings, key=lambda x: x)\n",
    "print(sorted_strings)  \n"
   ]
  },
  {
   "cell_type": "markdown",
   "metadata": {},
   "source": [
    "14.\tCreate a generator which will generate runtime unique value as  ABC0001, ABC0002, ABC0003… "
   ]
  },
  {
   "cell_type": "code",
   "execution_count": null,
   "metadata": {},
   "outputs": [
    {
     "name": "stdout",
     "output_type": "stream",
     "text": [
      "ABC0001\n",
      "ABC0002\n",
      "ABC0003\n"
     ]
    }
   ],
   "source": [
    "def unique_id_generator():\n",
    "    counter = 1\n",
    "    while True:\n",
    "        yield f\"ABC{counter:04d}\"  \n",
    "        counter += 1  \n",
    "# Using the generator\n",
    "gen = unique_id_generator()  \n",
    "\n",
    "print(next(gen))  \n",
    "print(next(gen))  \n",
    "print(next(gen))  \n"
   ]
  },
  {
   "cell_type": "markdown",
   "metadata": {},
   "source": [
    "15.\tCreate a decorator to check if all input values are alpha numeric and based on it check PAN detail  AAAAA1111X , rec.no   first 3 chr next 5 number "
   ]
  },
  {
   "cell_type": "code",
   "execution_count": null,
   "metadata": {},
   "outputs": [],
   "source": [
    "import re\n",
    "\n",
    "def validate_pan(func):\n",
    "    \n",
    "    def wrapper(pan_number):\n",
    "        if not pan_number.isalnum():\n",
    "            return \"Error: PAN must be alphanumeric!\"\n",
    "        pan_pattern = r\"^[A-Z]{5}[0-9]{4}[A-Z]$\"\n",
    "\n",
    "        if not re.match(pan_pattern, pan_number):\n",
    "            return \"Error: Invalid PAN format! Expected format: AAAAA1111X\"\n",
    "\n",
    "        return func(pan_number)  \n",
    "    return wrapper\n",
    "\n"
   ]
  },
  {
   "cell_type": "code",
   "execution_count": null,
   "metadata": {},
   "outputs": [
    {
     "name": "stdout",
     "output_type": "stream",
     "text": [
      "PAN ABCDE1234F is valid and processed successfully!\n",
      "Error: Invalid PAN format! Expected format: AAAAA1111X\n",
      "Error: Invalid PAN format! Expected format: AAAAA1111X\n",
      "Error: Invalid PAN format! Expected format: AAAAA1111X\n",
      "Error: PAN must be alphanumeric!\n"
     ]
    }
   ],
   "source": [
    "@validate_pan\n",
    "def process_pan(pan_number):\n",
    "    return f\"PAN {pan_number} is valid and processed successfully!\"\n",
    "print(process_pan(\"ABCDE1234F\"))  \n",
    "print(process_pan(\"XYZ9876PQ\"))   \n",
    "print(process_pan(\"A12CD3456Z\"))  \n",
    "print(process_pan(\"12345XYZ89\"))  \n",
    "print(process_pan(\"AB@CD1234X\"))  \n"
   ]
  },
  {
   "cell_type": "markdown",
   "metadata": {},
   "source": [
    "16.\tAccept 2 values from user and perform all arithmetic operations and return all"
   ]
  },
  {
   "cell_type": "code",
   "execution_count": 41,
   "metadata": {},
   "outputs": [
    {
     "name": "stdout",
     "output_type": "stream",
     "text": [
      "Addition: 9.5\n",
      "Subtraction: 3.5\n",
      "Multiplication: 19.5\n",
      "Division: 2.1666666666666665\n",
      "Floor Division: 2.0\n",
      "Modulus: 0.5\n",
      "Exponentiation: 274.625\n"
     ]
    }
   ],
   "source": [
    "def arithmetic_operations(a, b):\n",
    "    return {\n",
    "        \"Addition\": a + b,\n",
    "        \"Subtraction\": a - b,\n",
    "        \"Multiplication\": a * b,\n",
    "        \"Division\": a / b if b else \"Undefined\",\n",
    "        \"Floor Division\": a // b if b else \"Undefined\",\n",
    "        \"Modulus\": a % b if b else \"Undefined\",\n",
    "        \"Exponentiation\": a ** b\n",
    "    }\n",
    "\n",
    "a = float(input(\"Enter first number: \"))\n",
    "b = float(input(\"Enter second number: \"))\n",
    "\n",
    "# Call function and print results\n",
    "for op, result in arithmetic_operations(a, b).items():\n",
    "    print(f\"{op}: {result}\")\n"
   ]
  },
  {
   "cell_type": "markdown",
   "metadata": {},
   "source": [
    "17.\tAsk user to enter any 3 input e.g name, marks , mobile_num\n",
    "if name is with other special characters then it should not not ask for next makrs input\n",
    "   \tnote: \n",
    "o\tCreate separate functions for validation of every variable \n",
    "o\tEvery single block should have proper exception\n",
    "o\tEvery function must have the docstring\n",
    "o\tOnce the validation is done dictionary has to be created and store the dictionary to one txt file\n"
   ]
  },
  {
   "cell_type": "code",
   "execution_count": null,
   "metadata": {},
   "outputs": [
    {
     "name": "stdout",
     "output_type": "stream",
     "text": [
      "Data saved successfully!\n"
     ]
    }
   ],
   "source": [
    "import re\n",
    "\n",
    "def validate_name(name):\n",
    "    if not re.match(\"^[A-Za-z ]+$\", name):\n",
    "        raise ValueError(\"Invalid Name! Only alphabets are allowed.\")\n",
    "    return name\n",
    "\n",
    "def validate_marks(marks):\n",
    "    try:\n",
    "        marks = float(marks)\n",
    "        if marks < 0 or marks > 100:\n",
    "            raise ValueError(\"Marks should be between 0 and 100.\")\n",
    "        return marks\n",
    "    except ValueError:\n",
    "        raise ValueError(\"Invalid Marks! Enter a valid number.\")\n",
    "\n",
    "def validate_mobile(mobile):\n",
    "    if not re.match(\"^[0-9]{10}$\", mobile):\n",
    "        raise ValueError(\"Invalid Mobile Number! Enter exactly 10 digits.\")\n",
    "    return mobile\n",
    "\n",
    "def get_user_inputs():\n",
    "    try:\n",
    "        name = input(\"Enter your name: \")\n",
    "        name = validate_name(name)  \n",
    "        marks = input(\"Enter your marks: \")\n",
    "        marks = validate_marks(marks)  \n",
    "        mobile = input(\"Enter your mobile number: \")\n",
    "        mobile = validate_mobile(mobile)  \n",
    "\n",
    "        return {\"Name\": name, \"Marks\": marks, \"Mobile\": mobile}\n",
    "\n",
    "    except ValueError as e:\n",
    "        print(\"Error:\", e)\n",
    "        return None\n",
    "def save_to_file(data):\n",
    "    with open(\"user_data.txt\", \"a\") as file:\n",
    "        file.write(str(data) + \"\\n\")\n",
    "    print(\"Data saved successfully!\")\n",
    "user_data = get_user_inputs()\n",
    "\n",
    "if user_data:\n",
    "    save_to_file(user_data)\n"
   ]
  },
  {
   "cell_type": "code",
   "execution_count": 33,
   "metadata": {},
   "outputs": [
    {
     "name": "stdout",
     "output_type": "stream",
     "text": [
      "File 'user_data.txt' exists.\n"
     ]
    }
   ],
   "source": [
    "import os\n",
    "\n",
    "file_path = \"user_data.txt\"\n",
    "\n",
    "if os.path.exists(file_path):\n",
    "    print(f\"File '{file_path}' exists.\")\n",
    "else:\n",
    "    print(f\"File '{file_path}' not found.\")\n"
   ]
  },
  {
   "cell_type": "markdown",
   "metadata": {},
   "source": [
    "18.\tSegregate file in small , medium and large size in different folder\n",
    "o\tfilesize less than and equal to 10KB is small file\n",
    "o\tfilesize more than 10 KB is the medium file\n",
    "o\tfilesize more than 40 kb is the large file\n",
    "o\tcreate the log file \n"
   ]
  },
  {
   "cell_type": "code",
   "execution_count": 40,
   "metadata": {},
   "outputs": [
    {
     "name": "stdout",
     "output_type": "stream",
     "text": [
      "Files have been sorted successfully!\n"
     ]
    }
   ],
   "source": [
    "import os\n",
    "import shutil\n",
    "BASE_DIR = r\"C:\\Users\\Hp\\Desktop\\PythonBizTraining\" \n",
    "SMALL_DIR = r\"C:\\Users\\Hp\\Downloads\\small_files\"\n",
    "MEDIUM_DIR = r\"C:\\Users\\Hp\\Downloads\\medium_files\"\n",
    "LARGE_DIR = r\"C:\\Users\\Hp\\Downloads\\large_files\"\n",
    "for folder in [SMALL_DIR, MEDIUM_DIR, LARGE_DIR]:\n",
    "    os.makedirs(folder, exist_ok=True)\n",
    "for file in os.listdir(BASE_DIR):\n",
    "    file_path = os.path.join(BASE_DIR, file)\n",
    "    if not os.path.isfile(file_path):\n",
    "        continue\n",
    "    size_kb = os.path.getsize(file_path) / 1024\n",
    "\n",
    "    if size_kb <= 10:\n",
    "        shutil.move(file_path, SMALL_DIR)\n",
    "    elif size_kb <= 40:\n",
    "        shutil.move(file_path, MEDIUM_DIR)\n",
    "    else:\n",
    "        shutil.move(file_path, LARGE_DIR)\n",
    "\n",
    "print(\"Files have been sorted successfully!\")\n"
   ]
  },
  {
   "cell_type": "markdown",
   "metadata": {},
   "source": [
    "explaination:\n",
    "I defined BASE_DIR as files which is the folder where all the files are stored.Then I created three directories SMALL_DIR,MEDIUM_DIR, and LARGE_DIR to categorize files based on their size.  \n",
    "I used 'os.makedirs(folder, exist_ok=True)' to make sure the folders exist. If they’re not already there, they get created. This avoids any errors if the script runs multiple times.  \n",
    "I then looped through all the files inside BASE_DIR. If an item isn’t a file (like a folder), I skipped it using continue.  \n",
    "To get the file size, I used os.path.getsize(file_path)/ 1024, which converts the size into KB. Based on this size, I sorted the files:  \n",
    "Files ≤ 10 KB go into SMALL_DIR.  \n",
    "Files between 10 KB and 40 KB go into MEDIUM_DIR.  \n",
    "Files larger than 40 KB go into LARGE_DIR.  \n",
    "I used shutil.move(file_path, target_directory) to physically move the files to their respective folders.  \n"
   ]
  },
  {
   "cell_type": "markdown",
   "metadata": {},
   "source": [
    "19.\tIn the hotel user is entering the details of menu, quantity and printing the bill. number of menu may varies with customer's order "
   ]
  },
  {
   "cell_type": "code",
   "execution_count": null,
   "metadata": {},
   "outputs": [
    {
     "name": "stdout",
     "output_type": "stream",
     "text": [
      "        ### Welcome To Hotel Khandesh ###         \n",
      "-------------------------------------------------------\n",
      "Current Date:        2025-02-15     Receipt No:        N/A\n",
      "-------------------------------------------------------\n",
      "Sr        Menu        Quantity          Price\n",
      "-------------------------------------------------------\n",
      "1         idli               2          40.00\n",
      "2         coffee             2          90.00\n",
      "-------------------------------------------------------\n",
      "          Total                         130.0\n",
      "Including GST 10% =                         13.00\n"
     ]
    }
   ],
   "source": [
    "from datetime import datetime\n",
    "current_date = datetime.now().strftime(\"%Y-%m-%d\")\n",
    "string = \"### Welcome To Hotel Khandesh ###\"\n",
    "print(\"{:^50}\".format(string))\n",
    "print(\"-\" * 55)\n",
    "print(\"{:<20} {:<10} {:>15} {:>10}\".format(\"Current Date:\", current_date, \"Receipt No:\", \"N/A\"))\n",
    "print(\"-\" * 55)\n",
    "print(\"{:10}{:10}{:>10}{:>15}\".format(\"Sr\", \"Menu\", \"Quantity\", \"Price\"))\n",
    "Total = 0\n",
    "no_of_items = int(input(\"Enter the no. of items: \"))\n",
    "print(\"-\" * 55)\n",
    "\n",
    "for i in range(1, no_of_items + 1):\n",
    "    Menu = input(f\"Enter item {i}: \")\n",
    "    Quantity = int(input(f\"Enter quantity of {Menu}: \"))\n",
    "    Price = float(input(f\"Enter price of {Menu}: \"))\n",
    "    item_total = Quantity * Price\n",
    "    Total += item_total\n",
    "    print(\"{:<10}{:<10}{:>10}{:>15.2f}\".format(i, Menu, Quantity, item_total))\n",
    "\n",
    "print(\"-\" * 55)\n",
    "print(\"{:>15}{:>30}\".format(\"Total\", Total))\n",
    "GST = Total * 0.10\n",
    "print(\"{:>15}{:>30.2f}\".format(\"Including GST 10% =\", GST))\n"
   ]
  },
  {
   "cell_type": "code",
   "execution_count": 41,
   "metadata": {},
   "outputs": [
    {
     "name": "stdout",
     "output_type": "stream",
     "text": [
      "        ### Welcome To Hotel Khandesh ###         \n",
      "-------------------------------------------------------\n",
      "Current Date:        2025-02-15     Receipt No:        N/A\n",
      "-------------------------------------------------------\n",
      "Sr        Menu        Quantity          Price\n",
      "-------------------------------------------------------\n",
      "1         Pizza              2         300.00\n",
      "2         cold coffee         2         120.00\n",
      "-------------------------------------------------------\n",
      "          Total                        420.00\n",
      "Including GST 10% =                         42.00\n",
      "    Grand Total                        462.00\n"
     ]
    }
   ],
   "source": [
    "import logging\n",
    "from datetime import datetime\n",
    "\n",
    "logging.basicConfig(filename=\"billing_log.txt\", level=logging.INFO,\n",
    "                    format=\"%(asctime)s - %(levelname)s - %(message)s\")\n",
    "\n",
    "def get_valid_input(prompt, input_type):\n",
    "    while True:\n",
    "        try:\n",
    "            value = input_type(input(prompt))\n",
    "            return value\n",
    "        except ValueError:\n",
    "            print(\"Invalid input! Please enter the correct data type\")\n",
    "\n",
    "def main():\n",
    "    current_date = datetime.now().strftime(\"%Y-%m-%d\")\n",
    "    string = \"### Welcome To Hotel Khandesh ###\"\n",
    "    print(\"{:^50}\".format(string))\n",
    "    print(\"-\" * 55)\n",
    "    print(\"{:<20} {:<10} {:>15} {:>10}\".format(\"Current Date:\", current_date, \"Receipt No:\", \"N/A\"))\n",
    "    print(\"-\" * 55)\n",
    "    print(\"{:10}{:10}{:>10}{:>15}\".format(\"Sr\", \"Menu\", \"Quantity\", \"Price\"))\n",
    "\n",
    "    total = 0\n",
    "    no_of_items = get_valid_input(\"Enter the number of items: \", int)\n",
    "    print(\"-\" * 55)\n",
    "\n",
    "    items_list = []\n",
    "\n",
    "    for i in range(1, no_of_items + 1):\n",
    "        menu = input(f\"Enter item {i}: \").strip()\n",
    "        quantity = get_valid_input(f\"Enter quantity of {menu}: \", int)\n",
    "        price = get_valid_input(f\"Enter price of {menu}: \", float)\n",
    "\n",
    "        item_total = quantity * price\n",
    "        total += item_total\n",
    "        items_list.append((i, menu, quantity, item_total))\n",
    "\n",
    "        print(\"{:<10}{:<10}{:>10}{:>15.2f}\".format(i, menu, quantity, item_total))\n",
    "\n",
    "    print(\"-\" * 55)\n",
    "    print(\"{:>15}{:>30.2f}\".format(\"Total\", total))\n",
    "    gst = total * 0.10\n",
    "    grand_total = total + gst\n",
    "    print(\"{:>15}{:>30.2f}\".format(\"Including GST 10% =\", gst))\n",
    "    print(\"{:>15}{:>30.2f}\".format(\"Grand Total\", grand_total))\n",
    "    logging.info(\"Date: %s | Items: %s | Total: %.2f | GST: %.2f | Grand Total: %.2f\",\n",
    "                 current_date, items_list, total, gst, grand_total)\n",
    "\n",
    "if __name__ == \"__main__\":\n",
    "    main()\n"
   ]
  },
  {
   "cell_type": "markdown",
   "metadata": {},
   "source": [
    "20.\tAsk user to enter the valid file path and check which word is having more repetition in the file"
   ]
  },
  {
   "cell_type": "code",
   "execution_count": 43,
   "metadata": {},
   "outputs": [
    {
     "name": "stdout",
     "output_type": "stream",
     "text": [
      "The most repeated word is 'the' with 11 occurrences.\n"
     ]
    }
   ],
   "source": [
    "import os\n",
    "import logging\n",
    "from collections import Counter\n",
    "logging.basicConfig(filename=\"word_count_log.txt\", level=logging.INFO,\n",
    "                    format=\"%(asctime)s - %(levelname)s - %(message)s\")\n",
    "def get_valid_filepath():\n",
    "    while True:\n",
    "        file_path = input(\"Enter the valid file path: \").strip()\n",
    "        if os.path.isfile(file_path):\n",
    "            return file_path\n",
    "        print(\"Invalid file path! Please enter a correct path.\")\n",
    "\n",
    "def find_most_repeated_word(file_path):\n",
    "    try:\n",
    "        with open(file_path, \"r\", encoding=\"utf-8\") as file:\n",
    "            text = file.read().lower()  \n",
    "        \n",
    "        words = text.split() \n",
    "        word_counts = Counter(words) \n",
    "        most_common_word, highest_count = word_counts.most_common(1)[0]\n",
    "        logging.info(\"File: %s | Most Repeated Word: %s | Count: %d\",\n",
    "                     file_path, most_common_word, highest_count)\n",
    "\n",
    "        return most_common_word, highest_count\n",
    "\n",
    "    except Exception as e:\n",
    "        print(\"Error reading the file:\", e)\n",
    "        logging.error(\"Error reading file: %s | Error: %s\", file_path, str(e))\n",
    "        return None, None\n",
    "\n",
    "def main():\n",
    "    file_path = get_valid_filepath()\n",
    "    word, count = find_most_repeated_word(file_path)\n",
    "\n",
    "    if word:\n",
    "        print(f\"The most repeated word is '{word}' with {count} occurrences.\")\n",
    "    else:\n",
    "        print(\"Could not determine the most repeated word due to an error.\")\n",
    "\n",
    "if __name__ == \"__main__\":\n",
    "    main()\n"
   ]
  },
  {
   "cell_type": "markdown",
   "metadata": {},
   "source": [
    "Explanation:I defined the function get_valid_filepath() which continuously prompts the user to enter a valid file path. It checks whether the provided file path exists using os.path.isfile(file_path). If the file exists, it returns the path; otherwise, it keeps asking the user until they provide a valid one. This ensures that the program doesn't crash due to an incorrect file path.  \n",
    "The find_most_repeated_word(file_path) function is responsible for reading the file and finding the most frequently occurring word. It first opens the file in read mode using UTF-8 encoding to handle different text formats. The entire text is then converted to lowercase using lower()to ensure that words with different cases are counted as the same. The text is split into word using .split(), which automatically handles spaces and line breaks To count the frequency of each word, I used Counter(words)from the collections module, which creates a dictionary-like object storing word occurrences.The function then retrieves the most repeated word along with its count using .most_common(1)[0].  \n",
    "To keep track of the process, I used logging, which is configured to write logs to a file named word_count_log.txt. If the function successfully determines the most repeated word, it logs the \"file name, most repeated word, and its count\" using logging.info(). In case of an error (such as an unreadable file), the exception is caught, and an error message is displayed while logging the issue using logging.error().The main() function first calls get_valid_filepath() to ensure a valid file is provided.Then it calls findmost_repeated_word(file_path) to determine the most frequent word and its count. If a valid word is found, it printsThe most repeated word is 'word' with X occurrences.Otherwise it prints an error message stating that the most repeated word couldn't be determined. The script is structured so that it runs only when executed directly"
   ]
  },
  {
   "cell_type": "markdown",
   "metadata": {},
   "source": [
    "21. Create a function which will accept the word and the file path and returns the dictionary as {word: occurances}"
   ]
  },
  {
   "cell_type": "code",
   "execution_count": 48,
   "metadata": {},
   "outputs": [
    {
     "name": "stdout",
     "output_type": "stream",
     "text": [
      "{'find': 12}\n"
     ]
    }
   ],
   "source": [
    "import re\n",
    "\n",
    "def count_word_occurrences(word, path):\n",
    "    word_count = {}  \n",
    "    with open(path, \"r\") as file:\n",
    "        for line in file:\n",
    "            words = line.strip().split()\n",
    "            for w in words:\n",
    "                if w == word:  \n",
    "                    word_count[word] = word_count.get(word, 0) + 1  \n",
    "    return word_count  \n",
    "file_path = r\"C:\\Users\\Hp\\Downloads\\OneDrive_2025-02-12\\SQL server\\Questionaries (1).txt\" \n",
    "search_word = \"find\"  \n",
    "result = count_word_occurrences(search_word, file_path)\n",
    "print(result)\n"
   ]
  },
  {
   "cell_type": "markdown",
   "metadata": {},
   "source": [
    "22. Create a function which will accept one file and returns all occurrences of the word\n",
    "{‘market’ : 3, ‘is’:5, ‘new’:2}"
   ]
  },
  {
   "cell_type": "code",
   "execution_count": 49,
   "metadata": {},
   "outputs": [
    {
     "name": "stdout",
     "output_type": "stream",
     "text": [
      "{'1': 1, 'find': 15, 'the': 14, 'average': 4, 'currency': 1, 'rate': 1, 'conversion': 1, 'from': 2, 'usd': 1, 'to': 3, 'algerian': 1, 'dinar': 1, 'and': 13, 'australian': 1, 'doller': 1, '2': 1, 'products': 5, 'having': 1, 'offer': 4, 'on': 4, 'it': 1, 'display': 4, 'product': 11, 'name': 10, 'safety': 1, 'stock': 1, 'level': 1, 'listprice': 1, 'model': 2, 'id': 1, 'type': 2, 'of': 3, 'discount': 2, 'percentage': 1, 'start': 1, 'date': 4, 'end': 1, '3': 1, 'create': 1, 'view': 1, 'review': 1, '4': 1, 'out': 2, 'vendor': 1, 'for': 3, 'paint': 1, 'adjustable': 1, 'race': 1, 'blade': 1, '5': 1, 'details': 2, 'shipped': 1, 'through': 1, 'zy': 1, 'express': 1, '6': 1, 'tax': 1, 'amt': 1, 'where': 1, 'order': 1, 'ship': 2, 'are': 1, 'same': 1, 'day': 2, '7': 1, 'days': 1, 'required': 1, 'based': 2, 'shipment': 1, '8': 1, 'employees': 3, 'working': 1, 'in': 5, 'shift': 1, '9': 1, 'cost': 2, 'history': 1, 'service': 1, 'provider': 1, 'time': 1, 'standardcost': 1, '10': 1, 'with': 2, 'more': 1, 'than': 1, '500': 1, '11': 2, 'employee': 1, 'who': 2, 'worked': 2, 'multiple': 1, 'territory': 4, '12': 1, 'description': 1, 'culture': 1, 'as': 2, 'arabic': 1, 'sub': 1, 'query': 1, '13': 1, 'emp': 2, 'saleslastyear': 2, 'salesquota': 2, 'bonus': 2, '14': 1, 'germany': 1, 'united': 1, 'kingdom': 1, '15': 1, 'all': 5, 'north': 1, 'america': 1, '16': 1, 'cart': 1, '17': 1, 'special': 1, '18': 1, 'job': 1, 'title': 1, 'card': 2, 'whose': 1, 'credit': 1, 'expired': 1, 'month': 1, 'year': 1, '2008': 1, '19': 1}\n"
     ]
    }
   ],
   "source": [
    "import re\n",
    "from collections import Counter\n",
    "\n",
    "def word_occurrences(path):\n",
    "    word_count = Counter()\n",
    "    \n",
    "    with open(path, \"r\", encoding=\"utf-8\") as file:\n",
    "        for line in file:\n",
    "            words = re.findall(r\"\\b\\w+\\b\", line.lower()) \n",
    "            word_count.update(words) \n",
    "    \n",
    "    return dict(word_count) \n",
    "file_path = r\"C:\\Users\\Hp\\Downloads\\OneDrive_2025-02-12\\SQL server\\Questionaries (1).txt\"\n",
    "result = word_occurrences(file_path)\n",
    "print(result)\n"
   ]
  },
  {
   "cell_type": "markdown",
   "metadata": {},
   "source": [
    "23. Based on logic mentioned in question number 8 create the class"
   ]
  },
  {
   "cell_type": "code",
   "execution_count": 51,
   "metadata": {},
   "outputs": [
    {
     "name": "stdout",
     "output_type": "stream",
     "text": [
      "Key: Apple, Value: Red\n",
      "Key: Banana, Value: Yellow\n",
      "Key: Sapota, Value: Brown\n"
     ]
    }
   ],
   "source": [
    "class DictionaryHandler:\n",
    "    def __init__(self):\n",
    "        self.d1 = {}\n",
    "    def get_user_input(self):\n",
    "        n = int(input(\"Enter number of keyvalue pairs: \"))\n",
    "        for i in range(n):\n",
    "            key = input(f\"Enter key {i+1}: \")\n",
    "            value = input(f\"Enter value {i+1}: \")\n",
    "            self.d1[key] = value\n",
    "    def display(self):\n",
    "        for key, value in self.d1.items():\n",
    "            print(f\"Key: {key}, Value: {value}\")\n",
    "dict_handler = DictionaryHandler()  \n",
    "dict_handler.get_user_input() \n",
    "dict_handler.display() \n"
   ]
  },
  {
   "cell_type": "markdown",
   "metadata": {},
   "source": [
    "24. Ask user to enter the folder path. Folder may contain more than one file and with different extensions. Read only text file and return the more repetitive word"
   ]
  },
  {
   "cell_type": "code",
   "execution_count": 52,
   "metadata": {},
   "outputs": [
    {
     "name": "stdout",
     "output_type": "stream",
     "text": [
      "The most repeated word in the folder is 'find' with 26 occurrences.\n"
     ]
    }
   ],
   "source": [
    "import os\n",
    "import re\n",
    "from collections import Counter\n",
    "\n",
    "def get_folder_path():\n",
    "    while True:\n",
    "        folder_path = input(\"Enter the folder path: \").strip()\n",
    "        if os.path.isdir(folder_path):\n",
    "            return folder_path\n",
    "        print(\"Invalid folder path! Please enter a correct path.\")\n",
    "\n",
    "def find_most_repeated_word_in_folder(folder_path):\n",
    "    word_counter = Counter()\n",
    "    try:\n",
    "        for file_name in os.listdir(folder_path):\n",
    "            file_path = os.path.join(folder_path, file_name)\n",
    "            if os.path.isfile(file_path) and file_name.endswith(\".txt\"):\n",
    "                with open(file_path, \"r\", encoding=\"utf-8\") as file:\n",
    "                    text = file.read().lower() \n",
    "                    words = re.findall(r'\\b\\w+\\b', text)  \n",
    "                    word_counter.update(words) \n",
    "        if word_counter:\n",
    "            most_common_word, highest_count = word_counter.most_common(1)[0]\n",
    "            return most_common_word, highest_count\n",
    "        else:\n",
    "            return None, None\n",
    "\n",
    "    except Exception as e:\n",
    "        print(\"Error reading the files:\", e)\n",
    "        return None, None\n",
    "\n",
    "def main():\n",
    "    folder_path = get_folder_path()\n",
    "    word, count = find_most_repeated_word_in_folder(folder_path)\n",
    "\n",
    "    if word:\n",
    "        print(f\"The most repeated word in the folder is '{word}' with {count} occurrences.\")\n",
    "    else:\n",
    "        print(\"No words found in text files.\")\n",
    "\n",
    "if __name__ == \"__main__\":\n",
    "    main()\n"
   ]
  },
  {
   "cell_type": "markdown",
   "metadata": {},
   "source": [
    "25. Create a class for file reading"
   ]
  },
  {
   "cell_type": "code",
   "execution_count": 54,
   "metadata": {},
   "outputs": [
    {
     "name": "stdout",
     "output_type": "stream",
     "text": [
      "Most repeated word: 'the' with 11 occurrences.\n"
     ]
    }
   ],
   "source": [
    "import os\n",
    "from collections import Counter\n",
    "class FileReader:\n",
    "    def __init__(self, file_path):\n",
    "        self.file_path = file_path\n",
    "    def read_file(self):\n",
    "        if os.path.isfile(self.file_path):\n",
    "            with open(self.file_path, \"r\", encoding=\"utf-8\") as file:\n",
    "                return file.read().lower()\n",
    "        else:\n",
    "            print(\"File not found!\")\n",
    "            return \"\"\n",
    "    def most_repeated_word(self):\n",
    "        content = self.read_file()\n",
    "        words = content.split()\n",
    "        word_counts = Counter(words)\n",
    "        return word_counts.most_common(1)[0] if word_counts else (\"None\", 0)\n",
    "file_path = input(\"Enter the file path: \").strip()\n",
    "reader = FileReader(file_path)\n",
    "word, count = reader.most_repeated_word()\n",
    "print(f\"Most repeated word: '{word}' with {count} occurrences.\")\n"
   ]
  },
  {
   "cell_type": "markdown",
   "metadata": {},
   "source": [
    "26. Create a function which will accept the dictionary. Dictionary may have values any date type format. If values are in integer or float then return respective key"
   ]
  },
  {
   "cell_type": "code",
   "execution_count": null,
   "metadata": {},
   "outputs": [],
   "source": [
    "def filter_numeric_keys(d):\n",
    "    return [key for key, value in d.items() if isinstance(value, (int, float))]\n",
    "data = {\n",
    "    \"name\": \"Janvi\",\n",
    "    \"age\": 23,\n",
    "    \"height\": 5.2,\n",
    "    \"city\": \"Dharangaon\",\n",
    "    \"score\": 64\n",
    "}\n",
    "numeric_keys = filter_numeric_keys(data)\n",
    "print(\"Keys with numeric values:\", numeric_keys)\n"
   ]
  },
  {
   "cell_type": "code",
   "execution_count": null,
   "metadata": {},
   "outputs": [
    {
     "name": "stdout",
     "output_type": "stream",
     "text": [
      "Keys with numeric or datetime values: ['age', 'height', 'score', 'dob', 'last_login']\n"
     ]
    }
   ],
   "source": [
    "from datetime import datetime\n",
    "\n",
    "def filter_numeric_and_datetime_keys(d):\n",
    "    return [key for key, value in d.items() if isinstance(value, (int, float, datetime))]\n",
    "data = {\n",
    "    \"name\": \"Janvi\",\n",
    "    \"age\": 23,\n",
    "    \"height\": 5.2,\n",
    "    \"city\": \"Dharangaon\",\n",
    "    \"score\": 64,\n",
    "    \"dob\": datetime(2001, 8, 4), \n",
    "}\n",
    "numeric_and_datetime_keys = filter_numeric_and_datetime_keys(data)\n",
    "print(\"Keys with numeric or datetime values:\", numeric_and_datetime_keys)\n"
   ]
  },
  {
   "cell_type": "markdown",
   "metadata": {},
   "source": [
    "27. Create one decorator having exception logic inside it and create another function which will refer to the decorator in case of errors e.g val_name is the function validating name but customized error should be thrown from decorator"
   ]
  },
  {
   "cell_type": "code",
   "execution_count": 57,
   "metadata": {},
   "outputs": [
    {
     "name": "stdout",
     "output_type": "stream",
     "text": [
      "Valid name: Janvi\n",
      "Custom Error: Invalid name! Name should contain only alphabets.\n"
     ]
    }
   ],
   "source": [
    "import re\n",
    "def exception_handler(func):\n",
    "    def wrapper(*args, **kwargs):\n",
    "        try:\n",
    "            return func(*args, **kwargs)\n",
    "        except ValueError as e:\n",
    "            print(f\"Custom Error: {e}\")\n",
    "        except Exception as e:\n",
    "            print(f\"An unexpected error occurred: {e}\")\n",
    "    return wrapper\n",
    "@exception_handler\n",
    "def val_name(name):\n",
    "    if not re.match(r\"^[A-Za-z]+$\", name):\n",
    "        raise ValueError(\"Invalid name! Name should contain only alphabets.\")\n",
    "    print(f\"Valid name: {name}\")\n",
    "val_name(\"Janvi\")  \n",
    "val_name(\"Janvi123\")  \n"
   ]
  },
  {
   "cell_type": "markdown",
   "metadata": {},
   "source": [
    "28. Create a class User. User will be instantiated based on key available in the dictionary. If dictionary is not having the key then generate error. If dictionary is having the key then display values against the same."
   ]
  },
  {
   "cell_type": "code",
   "execution_count": null,
   "metadata": {},
   "outputs": [
    {
     "name": "stdout",
     "output_type": "stream",
     "text": [
      "User Info:\n",
      "Name: Janvi\n",
      "Age: 23\n",
      "Email: Janvi.Bhavsar@Bizmetric.com\n",
      "Error: 'Missing required keys: email'\n"
     ]
    }
   ],
   "source": [
    "class User:\n",
    "    def __init__(self, user_data):\n",
    "        required_keys = [\"name\", \"age\", \"email\"] \n",
    "        missing_keys = [key for key in required_keys if key not in user_data]\n",
    "        if missing_keys:\n",
    "            raise KeyError(f\"Missing required keys: {', '.join(missing_keys)}\")\n",
    "        self.name = user_data[\"name\"]\n",
    "        self.age = user_data[\"age\"]\n",
    "        self.email = user_data[\"email\"]\n",
    "    def display_info(self):\n",
    "        print(f\"User Info:\\nName: {self.name}\\nAge: {self.age}\\nEmail: {self.email}\")\n",
    "try:\n",
    "    user_data = {\"name\": \"Janvi\", \"age\": 23, \"email\": \"JanviBhavsar@Bizmetric.com\"}\n",
    "    user1 = User(user_data)\n",
    "    user1.display_info()\n",
    "    invalid_data = {\"name\": \"MAyuri\", \"age\": 30} \n",
    "    user2 = User(invalid_data) \n",
    "\n",
    "except KeyError as e:\n",
    "    print(f\"Error: {e}\")\n"
   ]
  },
  {
   "cell_type": "markdown",
   "metadata": {},
   "source": [
    "29. Create a class pharma. One user A will enter the medicine name and price. Another user B will generate the bill based on entry done by the first user"
   ]
  },
  {
   "cell_type": "code",
   "execution_count": 62,
   "metadata": {},
   "outputs": [
    {
     "name": "stdout",
     "output_type": "stream",
     "text": [
      "Medicine 'Paracetamol' added with price 50.\n",
      "Medicine 'Cough Syrup' added with price 120.\n",
      "Medicine 'Antibiotic' added with price 200.\n",
      "\n",
      "Bill Details:\n",
      "Paracetamol x 2 = ₹100\n",
      "Cough Syrup x 1 = ₹120\n",
      "Medicine 'Vitamin C' not found!\n",
      "Total Bill: ₹220\n"
     ]
    }
   ],
   "source": [
    "class Pharma:\n",
    "    def __init__(self):\n",
    "        self.medicine_data = {} \n",
    "    def add_medicine(self, name, price):\n",
    "        self.medicine_data[name] = price\n",
    "        print(f\"Medicine '{name}' added with price {price}.\")\n",
    "\n",
    "    def generate_bill(self, medicines):\n",
    "        total = 0\n",
    "        print(\"\\nBill Details:\")\n",
    "        for medicine, qty in medicines.items():\n",
    "            if medicine in self.medicine_data:\n",
    "                price = self.medicine_data[medicine] * qty\n",
    "                total += price\n",
    "                print(f\"{medicine} x {qty} = ₹{price}\")\n",
    "            else:\n",
    "                print(f\"Medicine '{medicine}' not found!\")\n",
    "        print(f\"Total Bill: ₹{total}\")\n",
    "pharma_store = Pharma()\n",
    "#UserA adding medicines\n",
    "pharma_store.add_medicine(\"Paracetamol\", 50)\n",
    "pharma_store.add_medicine(\"Cough Syrup\", 120)\n",
    "pharma_store.add_medicine(\"Antibiotic\", 200)\n",
    "# UserB generating bill\n",
    "order = {\"Paracetamol\": 2, \"Cough Syrup\": 1, \"Vitamin C\": 3} \n",
    "pharma_store.generate_bill(order)\n"
   ]
  },
  {
   "cell_type": "markdown",
   "metadata": {},
   "source": [
    "30. Read the file if the file contains number, then return the dictionary based on position and values of the number."
   ]
  },
  {
   "cell_type": "code",
   "execution_count": null,
   "metadata": {},
   "outputs": [
    {
     "name": "stdout",
     "output_type": "stream",
     "text": [
      "File Content:\n",
      " \"find the average currency rate conversion from USD to Algerian Dinar and Australian Doller \"\t\n",
      "\n",
      "\"Find the products having offer on it and display product name , safety Stock Level, Listprice,  and product model id, type of discount,  percentage of discount,  offer start date and offer end date\n",
      "  \t\n",
      "\n",
      "create  view to display Product name and Product review\tfind out the vendor for product   paint, Adjustable Race and blade\tfind product details shipped through ZY - EXPRESS\t \n",
      "\n",
      "find the tax amt for products where order date and ship date are on the same day\t\n",
      "\n",
      "find the average days required to ship the product based on shipment type.\t\n",
      "\n",
      "find the name of employees working in day shift\n",
      "\n",
      "based on product and product cost history find the name , service provider time and average Standardcost \t\n",
      "\n",
      "find products with average cost more than 500\t \n",
      "\n",
      "find the employee who worked in multiple territory\t\n",
      "\n",
      "find out the Product model name, product description for culture  as Arabic\n",
      "\n",
      "Last 5 Lines:\n",
      " find products with average cost more than 500\t \n",
      "\n",
      "find the employee who worked in multiple territory\t\n",
      "\n",
      "find out the Product model name, product description for culture  as Arabic\n",
      "\n",
      "Extracted Numbers: {(16, 8): 500}\n"
     ]
    }
   ],
   "source": [
    "import re\n",
    "import logging\n",
    "logging.basicConfig(filename=\"file_processing.log\", level=logging.DEBUG,\n",
    "                    format=\"%(asctime)s - %(levelname)s - %(message)s\")\n",
    "def read_numbers_from_txt(file_path):\n",
    "    number_dict = {}\n",
    "    try:\n",
    "        with open(file_path, \"r\", encoding=\"utf-8\") as file:\n",
    "            lines = file.readlines()\n",
    "        print(\"File Content:\\n\", \"\".join(lines))\n",
    "        if not lines:\n",
    "            logging.warning(\"File is empty.\")\n",
    "            print(\"Error: File is empty!\")\n",
    "            return None\n",
    "        last_five_lines = lines[-5:] if len(lines) > 5 else lines\n",
    "        print(\"Last 5 Lines:\\n\", \"\".join(last_five_lines))\n",
    "        for line_number, line in enumerate(last_five_lines, start=max(1, len(lines) - 4)):\n",
    "            words = line.strip().split()\n",
    "            for index, word in enumerate(words, start=1):\n",
    "                if re.match(r\"^\\d+(\\.\\d+)?$\", word): \n",
    "                    number_dict[(line_number, index)] = float(word) if \".\" in word else int(word)\n",
    "        if number_dict:\n",
    "            logging.info(f\"Successfully extracted numbers: {number_dict}\")\n",
    "            print(\"Extracted Numbers:\", number_dict)\n",
    "        else:\n",
    "            logging.warning(\"No numbers found in the last 5 lines.\")\n",
    "            print(\"No numbers found!\")\n",
    "        return number_dict\n",
    "    except Exception as e:\n",
    "        logging.error(f\"Error reading file {file_path}: {str(e)}\")\n",
    "        print(\"Error reading file. Check log for details.\")\n",
    "        return None\n",
    "file_path = r\"C:\\Users\\Hp\\Downloads\\OneDrive_2025-02-12\\SQL server\\Question_1.txt\"\n",
    "result = read_numbers_from_txt(file_path)\n"
   ]
  },
  {
   "cell_type": "markdown",
   "metadata": {},
   "source": [
    "31. Create a class for file reading file if the file contains number, then return the dictionary based on user object, having sub dictionary position and values of the number against that user file."
   ]
  },
  {
   "cell_type": "code",
   "execution_count": 71,
   "metadata": {},
   "outputs": [
    {
     "name": "stdout",
     "output_type": "stream",
     "text": [
      "Extracted Numbers for UserA: {(16, 8): 500}\n",
      "{'UserA': {(16, 8): 500}}\n"
     ]
    }
   ],
   "source": [
    "import re\n",
    "import logging\n",
    "logging.basicConfig(filename=\"file_reading.log\", level=logging.DEBUG,\n",
    "                    format=\"%(asctime)s - %(levelname)s - %(message)s\")\n",
    "class FileReader:\n",
    "    def __init__(self, username, file_path):\n",
    "        self.username = username\n",
    "        self.file_path = file_path\n",
    "        self.number_dict = {}\n",
    "    def read_file(self):\n",
    "        try:\n",
    "            with open(self.file_path, \"r\", encoding=\"utf-8\") as file:\n",
    "                lines = file.readlines()\n",
    "            if not lines:\n",
    "                logging.warning(f\"File {self.file_path} is empty.\")\n",
    "                print(\"Error: File is empty!\")\n",
    "                return None\n",
    "            for line_number, line in enumerate(lines, start=1):\n",
    "                words = line.strip().split()\n",
    "                for index, word in enumerate(words, start=1):\n",
    "                    if re.match(r\"^\\d+(\\.\\d+)?$\", word):  # Check if it's a number\n",
    "                        self.number_dict[(line_number, index)] = float(word) if \".\" in word else int(word)\n",
    "            if self.number_dict:\n",
    "                logging.info(f\"Successfully extracted numbers for {self.username}: {self.number_dict}\")\n",
    "                print(f\"Extracted Numbers for {self.username}: {self.number_dict}\")\n",
    "            else:\n",
    "                logging.warning(f\"No numbers found in {self.file_path} for {self.username}.\")\n",
    "                print(f\"No numbers found for {self.username}!\")\n",
    "        except Exception as e:\n",
    "            logging.error(f\"Error reading file {self.file_path}: {str(e)}\")\n",
    "            print(\"Error reading file. Check log for details.\")\n",
    "    def get_user_data(self):\n",
    "        return {self.username: self.number_dict}\n",
    "user1 = FileReader(\"UserA\", r\"C:\\Users\\Hp\\Downloads\\OneDrive_2025-02-12\\SQL server\\Question_1.txt\")\n",
    "user1.read_file()\n",
    "user_data = user1.get_user_data()\n",
    "print(user_data)\n"
   ]
  },
  {
   "cell_type": "markdown",
   "metadata": {},
   "source": [
    "32. In hotel booking portal, user will enter pan card name and mobile number, store the same information into dictionary after successful booking user will get confirmation number."
   ]
  },
  {
   "cell_type": "code",
   "execution_count": 73,
   "metadata": {},
   "outputs": [
    {
     "name": "stdout",
     "output_type": "stream",
     "text": [
      "Booking Successful! Your Confirmation Number: 104578\n",
      "{104578: {'PAN Card': 'SDASD123G', 'Name': 'Janvi', 'Mobile': '8798113883'}}\n"
     ]
    }
   ],
   "source": [
    "import random\n",
    "import logging\n",
    "logging.basicConfig(filename=\"hotel_booking.log\", level=logging.INFO,\n",
    "                    format=\"%(asctime)s - %(levelname)s - %(message)s\")\n",
    "class HotelBooking:\n",
    "    def __init__(self):\n",
    "        self.bookings = {} \n",
    "    def generate_confirmation_number(self):\n",
    "        return random.randint(100000, 999999)\n",
    "    def book_room(self, pan_card, name, mobile):\n",
    "        if not pan_card or not name or not mobile:\n",
    "            print(\"Error: All fields are required!\")\n",
    "            logging.warning(\"Booking failed due to missing information.\")\n",
    "            return None\n",
    "        confirmation_number = self.generate_confirmation_number()\n",
    "        self.bookings[confirmation_number] = {\"PAN Card\": pan_card, \"Name\": name, \"Mobile\": mobile}\n",
    "        print(f\"Booking Successful! Your Confirmation Number: {confirmation_number}\")\n",
    "        logging.info(f\"Booking successful for {name} with Confirmation No: {confirmation_number}\")\n",
    "        return confirmation_number\n",
    "    def get_bookings(self):\n",
    "        return self.bookings\n",
    "hotel = HotelBooking()\n",
    "pan = input(\"Enter PAN Card Number: \").strip()\n",
    "name = input(\"Enter Name: \").strip()\n",
    "mobile = input(\"Enter Mobile Number: \").strip()\n",
    "hotel.book_room(pan, name, mobile)\n",
    "print(hotel.get_bookings())\n"
   ]
  },
  {
   "cell_type": "markdown",
   "metadata": {},
   "source": [
    "33. Create a super class user. Having methods register, sing in, sign out. Super class can be inherited by student, professor, admin\n",
    "Admin and students can view the marks and professor can enter the marks\n",
    "But marks can be visible to students on the given result date"
   ]
  },
  {
   "cell_type": "code",
   "execution_count": 75,
   "metadata": {},
   "outputs": [
    {
     "name": "stdout",
     "output_type": "stream",
     "text": [
      "janvi123 registered successfully!\n",
      "prof_sameer registered successfully!\n",
      "admin_01 registered successfully!\n",
      "Marks entered for janvi123: 85\n",
      "Results are not yet published.\n",
      "All student marks:\n",
      "janvi123: 85\n"
     ]
    }
   ],
   "source": [
    "import datetime\n",
    "\n",
    "class User:\n",
    "    users={}\n",
    "    def __init__(self, username, password):\n",
    "        self.username= username\n",
    "        self.password= password\n",
    "    def register(self):\n",
    "        if self.username in User.users:\n",
    "            print(\"Username already exists! Try another.\")\n",
    "            return False\n",
    "        User.users[self.username] = self.password\n",
    "        print(f\"{self.username} registered successfully!\")\n",
    "        return True\n",
    "    def sign_in(self):\n",
    "        if self.username in User.users and User.users[self.username] == self.password:\n",
    "            print(f\"{self.username} signed in successfully!\")\n",
    "            return True\n",
    "        print(\"Invalid username or password!\")\n",
    "        return False\n",
    "    def sign_out(self):\n",
    "        print(f\"{self.username} signed out!\")\n",
    "class Student(User):\n",
    "    def __init__(self, username, password):\n",
    "        super().__init__(username, password)\n",
    "    def view_marks(self, result_date, marks):\n",
    "        today = datetime.date.today()\n",
    "        if today >= result_date:\n",
    "            print(f\"Marks for {self.username}: {marks}\")\n",
    "        else:\n",
    "            print(\"Results are not yet published.\")\n",
    "class Professor(User):\n",
    "    def __init__(self, username, password):\n",
    "        super().__init__(username, password)\n",
    "    def enter_marks(self, student, marks, marksheet):\n",
    "        marksheet[student.username] = marks\n",
    "        print(f\"Marks entered for {student.username}: {marks}\")\n",
    "class Admin(User):\n",
    "    def __init__(self, username, password):\n",
    "        super().__init__(username, password)\n",
    "    def view_all_marks(self, marksheet):\n",
    "        print(\"All student marks:\")\n",
    "        for student, marks in marksheet.items():\n",
    "            print(f\"{student}: {marks}\")\n",
    "\n",
    "marksheet = {} \n",
    "student1 = Student(\"janvi123\", \"pass123\")\n",
    "professor = Professor(\"prof_sameer\", \"prof123\")\n",
    "admin = Admin(\"admin_01\", \"adminpass\")\n",
    "\n",
    "student1.register()\n",
    "professor.register()\n",
    "admin.register()\n",
    "\n",
    "professor.enter_marks(student1, 85, marksheet)\n",
    "result_date = datetime.date(2025, 3, 10) \n",
    "student1.view_marks(result_date, marksheet.get(student1.username, \"Not Available\"))\n",
    "\n",
    "admin.view_all_marks(marksheet)\n"
   ]
  },
  {
   "cell_type": "markdown",
   "metadata": {},
   "source": [
    "34. Create suitable classes, methods and attributes for resume exchange. Employee to upload the file and the same file is visible to employer"
   ]
  },
  {
   "cell_type": "code",
   "execution_count": 78,
   "metadata": {},
   "outputs": [
    {
     "name": "stdout",
     "output_type": "stream",
     "text": [
      "JAnvi uploaded resume: JanviBhavsar_resume.pdf\n",
      "Employer is viewing JAnvi's resume: JanviBhavsar_resume.pdf\n"
     ]
    }
   ],
   "source": [
    "class Employee:\n",
    "    def __init__(self, name):\n",
    "        self.name = name\n",
    "        self.resume = None\n",
    "\n",
    "    def upload_resume(self, file_name):\n",
    "        self.resume = file_name\n",
    "        print(f\"{self.name} uploaded resume: {file_name}\")\n",
    "\n",
    "class Employer:\n",
    "    def view_resume(self, employee):\n",
    "        if employee.resume:\n",
    "            print(f\"Employer is viewing {employee.name}'s resume: {employee.resume}\")\n",
    "        else:\n",
    "            print(f\"No resume found for {employee.name}\")\n",
    "emp = Employee(\"JAnvi\")\n",
    "emp.upload_resume(\"JanviBhavsar_resume.pdf\")\n",
    "\n",
    "employer = Employer()\n",
    "employer.view_resume(emp)\n"
   ]
  },
  {
   "cell_type": "markdown",
   "metadata": {},
   "source": [
    "35. Perform the database connectivity and save all employee details in the database Like name, mobile, address Create the proper class with methods like user information, calculate the salary, apply for the leave, view leaves, approve leaves. Records for leave application should be stored in dummy table (temporary view). Once the leave is approved then it should move to permanent table."
   ]
  },
  {
   "cell_type": "code",
   "execution_count": 81,
   "metadata": {},
   "outputs": [
    {
     "name": "stdout",
     "output_type": "stream",
     "text": [
      "Employee John Doe information saved successfully.\n",
      "Employee Jane Smith information saved successfully.\n",
      "Salary for John Doe is: 25000\n",
      "Leave applied from 2025-03-01 to 2025-03-05 for Vacation.\n",
      "\n",
      "Viewing Leaves before Approval:\n",
      "Leave Records for John Doe:\n",
      "Leave ID 1 approved and moved to permanent records.\n",
      "\n",
      "Viewing Leaves after Approval:\n",
      "Leave Records for John Doe:\n",
      "(1, 1, '2025-03-01', '2025-03-05', 'Vacation', 'Approved')\n"
     ]
    }
   ],
   "source": [
    "import sqlite3\n",
    "from datetime import datetime\n",
    "class Database:\n",
    "    def __init__(self, db_name=\"employee_management.db\"):\n",
    "        self.connection = sqlite3.connect(db_name)\n",
    "        self.cursor = self.connection.cursor()\n",
    "        self.create_tables()\n",
    "\n",
    "    def create_tables(self):\n",
    "        self.cursor.execute(\"\"\"\n",
    "            CREATE TABLE IF NOT EXISTS Employee (\n",
    "                emp_id INTEGER PRIMARY KEY AUTOINCREMENT,\n",
    "                name TEXT NOT NULL,\n",
    "                mobile TEXT NOT NULL,\n",
    "                address TEXT NOT NULL\n",
    "            );\n",
    "        \"\"\")\n",
    "        self.cursor.execute(\"\"\"\n",
    "            CREATE TABLE IF NOT EXISTS TempLeave (\n",
    "                leave_id INTEGER PRIMARY KEY AUTOINCREMENT,\n",
    "                emp_id INTEGER,\n",
    "                start_date TEXT,\n",
    "                end_date TEXT,\n",
    "                reason TEXT,\n",
    "                status TEXT DEFAULT 'Pending',\n",
    "                FOREIGN KEY (emp_id) REFERENCES Employee(emp_id)\n",
    "            );\n",
    "        \"\"\")\n",
    "        self.cursor.execute(\"\"\"\n",
    "            CREATE TABLE IF NOT EXISTS PermLeave (\n",
    "                leave_id INTEGER PRIMARY KEY AUTOINCREMENT,\n",
    "                emp_id INTEGER,\n",
    "                start_date TEXT,\n",
    "                end_date TEXT,\n",
    "                reason TEXT,\n",
    "                status TEXT,\n",
    "                FOREIGN KEY (emp_id) REFERENCES Employee(emp_id)\n",
    "            );\n",
    "        \"\"\")\n",
    "        \n",
    "        self.connection.commit()\n",
    "\n",
    "    def close_connection(self):\n",
    "        self.connection.close()\n",
    "class Employee:\n",
    "    def __init__(self, name, mobile, address):\n",
    "        self.name = name\n",
    "        self.mobile = mobile\n",
    "        self.address = address\n",
    "        self.db = Database()\n",
    "        \n",
    "    def user_information(self):\n",
    "        self.db.cursor.execute(\"\"\"\n",
    "            INSERT INTO Employee (name, mobile, address) VALUES (?, ?, ?);\n",
    "        \"\"\", (self.name, self.mobile, self.address))\n",
    "        self.db.connection.commit()\n",
    "        print(f\"Employee {self.name} information saved successfully.\")\n",
    "\n",
    "    def calculate_salary(self, base_salary, days_worked):\n",
    "        salary = base_salary * days_worked\n",
    "        print(f\"Salary for {self.name} is: {salary}\")\n",
    "        return salary\n",
    "\n",
    "    def apply_leave(self, start_date, end_date, reason):\n",
    "        self.db.cursor.execute(\"\"\"\n",
    "            SELECT emp_id FROM Employee WHERE name = ? AND mobile = ?;\n",
    "        \"\"\", (self.name, self.mobile))\n",
    "        emp_id = self.db.cursor.fetchone()\n",
    "        \n",
    "        if emp_id:\n",
    "            self.db.cursor.execute(\"\"\"\n",
    "                INSERT INTO TempLeave (emp_id, start_date, end_date, reason)\n",
    "                VALUES (?, ?, ?, ?);\n",
    "            \"\"\", (emp_id[0], start_date, end_date, reason))\n",
    "            self.db.connection.commit()\n",
    "            print(f\"Leave applied from {start_date} to {end_date} for {reason}.\")\n",
    "        else:\n",
    "            print(\"Employee not found. Cannot apply for leave.\")\n",
    "\n",
    "    def view_leaves(self):\n",
    "        self.db.cursor.execute(\"\"\"\n",
    "            SELECT * FROM PermLeave WHERE emp_id = (\n",
    "                SELECT emp_id FROM Employee WHERE name = ? AND mobile = ?\n",
    "            );\n",
    "        \"\"\", (self.name, self.mobile))\n",
    "        leaves = self.db.cursor.fetchall()\n",
    "        \n",
    "        print(f\"Leave Records for {self.name}:\")\n",
    "        for leave in leaves:\n",
    "            print(leave)\n",
    "class Admin:\n",
    "    def __init__(self):\n",
    "        self.db = Database()\n",
    "        \n",
    "    def approve_leave(self, leave_id):\n",
    "        self.db.cursor.execute(\"\"\"\n",
    "            SELECT * FROM TempLeave WHERE leave_id = ?;\n",
    "        \"\"\", (leave_id,))\n",
    "        leave_record = self.db.cursor.fetchone()\n",
    "        \n",
    "        if leave_record:\n",
    "            self.db.cursor.execute(\"\"\"\n",
    "                INSERT INTO PermLeave (emp_id, start_date, end_date, reason, status)\n",
    "                VALUES (?, ?, ?, ?, 'Approved');\n",
    "            \"\"\", (leave_record[1], leave_record[2], leave_record[3], leave_record[4]))\n",
    "            \n",
    "            self.db.cursor.execute(\"\"\"\n",
    "                DELETE FROM TempLeave WHERE leave_id = ?;\n",
    "            \"\"\", (leave_id,))\n",
    "            \n",
    "            self.db.connection.commit()\n",
    "            print(f\"Leave ID {leave_id} approved and moved to permanent records.\")\n",
    "        else:\n",
    "            print(\"Leave ID not found or already approved.\")\n",
    "\n",
    "employee1 = Employee(\"John Doe\", \"9876543210\", \"123 Street, City\")\n",
    "employee2 = Employee(\"Jane Smith\", \"8765432109\", \"456 Avenue, City\")\n",
    "\n",
    "employee1.user_information()\n",
    "employee2.user_information()\n",
    "\n",
    "employee1.calculate_salary(base_salary=1000, days_worked=25)\n",
    "\n",
    "employee1.apply_leave(start_date=\"2025-03-01\", end_date=\"2025-03-05\", reason=\"Vacation\")\n",
    "\n",
    "print(\"\\nViewing Leaves before Approval:\")\n",
    "employee1.view_leaves()\n",
    "\n",
    "admin = Admin()\n",
    "admin.approve_leave(leave_id=1)\n",
    "\n",
    "print(\"\\nViewing Leaves after Approval:\")\n",
    "employee1.view_leaves()"
   ]
  }
 ],
 "metadata": {
  "kernelspec": {
   "display_name": "Python 3",
   "language": "python",
   "name": "python3"
  },
  "language_info": {
   "codemirror_mode": {
    "name": "ipython",
    "version": 3
   },
   "file_extension": ".py",
   "mimetype": "text/x-python",
   "name": "python",
   "nbconvert_exporter": "python",
   "pygments_lexer": "ipython3",
   "version": "3.12.8"
  }
 },
 "nbformat": 4,
 "nbformat_minor": 2
}
