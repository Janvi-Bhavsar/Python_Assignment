{
 "cells": [
  {
   "cell_type": "markdown",
   "metadata": {},
   "source": [
    "QUE 4)Based on database ask user to enter the values and store the same in the variable with validation "
   ]
  },
  {
   "cell_type": "code",
   "execution_count": 4,
   "metadata": {},
   "outputs": [],
   "source": [
    "import re"
   ]
  },
  {
   "cell_type": "code",
   "execution_count": 5,
   "metadata": {},
   "outputs": [
    {
     "name": "stdout",
     "output_type": "stream",
     "text": [
      "{'name': 'janvi', 'phone': '8698113883', 'email': 'janvibhavsar2607@gmail.com'}\n"
     ]
    }
   ],
   "source": [
    "n= lambda name : name.isalpha() and len(name) > 0\n",
    "p= lambda phone : phone.isdigit() and len(phone)==10\n",
    "e= lambda email : re.findall(r'[\\w\\.-]+@[\\w\\.-]+\\.\\w+',email)\n",
    "#e= lambda email : re.finadall(\"^[A-z,0-9][a-z]*.*gmail.com\",email)\n",
    "\n",
    "def valid_input(txt, validate,msg):\n",
    "    while True:\n",
    "        user= input(txt)\n",
    "        if validate(user):\n",
    "            return user\n",
    "        else:\n",
    "            print(msg)\n",
    "name=valid_input(\"Enter the name: \",n,\"INVALID\")\n",
    "phone=valid_input(\"enter the number:\",p,\"must be 10 num\")\n",
    "email=valid_input(\"enter tehe email:: \",e,\"Invalid\")\n",
    "sorted_data={'name':name,'phone':phone,'email':email}\n",
    "print(sorted_data)"
   ]
  },
  {
   "cell_type": "markdown",
   "metadata": {},
   "source": [
    "QUE 8)Based on the modules generate proper logger to all files and use proper classes and implement encapsulation, abstract classes, inheritance and polymorphism wherever it is needed. "
   ]
  },
  {
   "cell_type": "code",
   "execution_count": 2,
   "metadata": {},
   "outputs": [
    {
     "name": "stderr",
     "output_type": "stream",
     "text": [
      "2025-01-21 12:38:38,127 - INFO - Waiting for user input.\n",
      "2025-01-21 12:38:44,725 - INFO - User entered DOB: 2001-08-04 at 2025-01-21 12:38:44.725802\n",
      "2025-01-21 12:38:44,726 - INFO - Valid DOB provided: 2001-08-04\n",
      "2025-01-21 12:38:44,726 - INFO - Age calculated: 23\n",
      "2025-01-21 12:38:44,727 - INFO - Displaying the age at 2025-01-21 12:38:44.727800\n"
     ]
    },
    {
     "name": "stdout",
     "output_type": "stream",
     "text": [
      "Your age is: 23 years\n"
     ]
    }
   ],
   "source": [
    "import logging\n",
    "from datetime import datetime\n",
    "\n",
    "logging.basicConfig(level=logging.INFO, format=\"%(asctime)s - %(levelname)s - %(message)s\")\n",
    "\n",
    "class AgeCalculator:\n",
    "    def __init__(self, dob):\n",
    "        try:\n",
    "            self.dob = datetime.strptime(dob, \"%Y-%m-%d\")  # Parse DOB\n",
    "            logging.info(f\"Valid DOB provided: {dob}\")\n",
    "        except ValueError:\n",
    "            logging.error(\"Invalid DOB format. Expected YYYY-MM-DD.\")\n",
    "            raise ValueError(\"Invalid DOB format. Please provide DOB in YYYY-MM-DD format.\")\n",
    "\n",
    "    def calculate_age(self):\n",
    "        today = datetime.today()\n",
    "        age = today.year - self.dob.year - ((today.month, today.day) < (self.dob.month, self.dob.day))\n",
    "        logging.info(f\"Age calculated: {age}\")\n",
    "        return age\n",
    "\n",
    "\n",
    "try:\n",
    "    logging.info(\"Waiting for user input.\")\n",
    "    dob = input(\"Enter DOB (YYYY-MM-DD): \")  # Take input from user\n",
    "    logging.info(f\"User entered DOB: {dob} at {datetime.now()}\")  # Log input time\n",
    "\n",
    "    age_calculator = AgeCalculator(dob)\n",
    "    age = age_calculator.calculate_age()\n",
    "    \n",
    "    logging.info(f\"Displaying the age at {datetime.now()}\")\n",
    "    print(f\"Your age is: {age} years\")\n",
    "except Exception as e:\n",
    "    logging.error(f\"Error: {e}\")\n"
   ]
  }
 ],
 "metadata": {
  "kernelspec": {
   "display_name": "Python 3",
   "language": "python",
   "name": "python3"
  },
  "language_info": {
   "codemirror_mode": {
    "name": "ipython",
    "version": 3
   },
   "file_extension": ".py",
   "mimetype": "text/x-python",
   "name": "python",
   "nbconvert_exporter": "python",
   "pygments_lexer": "ipython3",
   "version": "3.12.8"
  }
 },
 "nbformat": 4,
 "nbformat_minor": 2
}
