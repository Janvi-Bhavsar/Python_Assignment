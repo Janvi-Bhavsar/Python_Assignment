{
 "cells": [
  {
   "cell_type": "markdown",
   "metadata": {},
   "source": [
    "QUE 1)Create the list of mix element by asking user to enter the values. Segregate the mixed data type list into two different list "
   ]
  },
  {
   "cell_type": "code",
   "execution_count": null,
   "metadata": {},
   "outputs": [],
   "source": [
    "list1=[12,23,31,43,'Janvi','Bhavsar','sad',6.5,8,'slice']\n",
    "\n",
    "\n",
    "char=[]\n",
    "num=[]\n",
    "for i in list1:\n",
    "    if type(i)==str:\n",
    "        char.append(i)\n",
    "    else:\n",
    "        num.append(i)\n",
    "\n",
    "\n",
    "print(\"characters: \", char)\n",
    "print(\"numbers: \",num)"
   ]
  }
 ],
 "metadata": {
  "kernelspec": {
   "display_name": "Python 3",
   "language": "python",
   "name": "python3"
  },
  "language_info": {
   "name": "python",
   "version": "3.12.8"
  }
 },
 "nbformat": 4,
 "nbformat_minor": 2
}
