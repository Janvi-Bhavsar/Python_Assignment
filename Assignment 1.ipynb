{
 "cells": [
  {
   "cell_type": "markdown",
   "metadata": {},
   "source": [
    "QUE 1)Create the list of mix element by asking user to enter the values. Segregate the mixed data type list into two different list "
   ]
  },
  {
   "cell_type": "code",
   "execution_count": 1,
   "metadata": {},
   "outputs": [
    {
     "name": "stdout",
     "output_type": "stream",
     "text": [
      "characters:  ['Janvi', 'Bhavsar', 'sad', 'slice']\n",
      "numbers:  [12, 23, 31, 43, 6.5, 8]\n"
     ]
    }
   ],
   "source": [
    "list1=[12,23,31,43,'Janvi','Bhavsar','sad',6.5,8,'slice']\n",
    "\n",
    "\n",
    "char=[]\n",
    "num=[]\n",
    "for i in list1:\n",
    "    if type(i)==str:\n",
    "        char.append(i)\n",
    "    else:\n",
    "        num.append(i)\n",
    "\n",
    "\n",
    "print(\"characters: \", char)\n",
    "print(\"numbers: \",num)"
   ]
  }
 ],
 "metadata": {
  "kernelspec": {
   "display_name": "Python 3",
   "language": "python",
   "name": "python3"
  },
  "language_info": {
   "codemirror_mode": {
    "name": "ipython",
    "version": 3
   },
   "file_extension": ".py",
   "mimetype": "text/x-python",
   "name": "python",
   "nbconvert_exporter": "python",
   "pygments_lexer": "ipython3",
   "version": "3.12.8"
  }
 },
 "nbformat": 4,
 "nbformat_minor": 2
}
