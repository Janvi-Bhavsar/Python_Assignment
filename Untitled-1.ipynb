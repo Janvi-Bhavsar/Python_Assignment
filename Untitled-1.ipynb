{
 "cells": [
  {
   "cell_type": "code",
   "execution_count": 1,
   "metadata": {},
   "outputs": [
    {
     "name": "stderr",
     "output_type": "stream",
     "text": [
      "2025-01-21 15:02:11,195 - Error: AgeCalculator() takes no arguments\n"
     ]
    }
   ],
   "source": [
    "import logging\n",
    "from datetime import datetime\n",
    "logging.basicConfig(level=logging.INFO, format=\"%(asctime)s - %(message)s\")\n",
    "\n",
    "class AgeCalculator:\n",
    "    def _init_(self, dob):\n",
    "        try:\n",
    "            self.dob = datetime.strptime(dob, \"%Y-%m-%d\")\n",
    "            logging.info(\"Valid DOB provided.\")\n",
    "        except ValueError:\n",
    "            logging.error(\"Invalid DOB format. Expected YYYY-MM-DD.\")\n",
    "            raise\n",
    "\n",
    "    def calculate_age(self):\n",
    "        today = datetime.today()\n",
    "        age = today.year - self.dob.year - ((today.month, today.day) < (self.dob.month, self.dob.day))\n",
    "        logging.info(f\"Calculated Age: {age}\")\n",
    "        return age\n",
    "try:\n",
    "    dob = input(\"Enter DOB (YYYY-MM-DD): \")\n",
    "    print(f\"Your age is: {AgeCalculator(dob).calculate_age()} years\")\n",
    "except Exception as e:\n",
    "    logging.error(f\"Error: {e}\")"
   ]
  }
 ],
 "metadata": {
  "kernelspec": {
   "display_name": "Python 3",
   "language": "python",
   "name": "python3"
  },
  "language_info": {
   "codemirror_mode": {
    "name": "ipython",
    "version": 3
   },
   "file_extension": ".py",
   "mimetype": "text/x-python",
   "name": "python",
   "nbconvert_exporter": "python",
   "pygments_lexer": "ipython3",
   "version": "3.12.8"
  }
 },
 "nbformat": 4,
 "nbformat_minor": 2
}
